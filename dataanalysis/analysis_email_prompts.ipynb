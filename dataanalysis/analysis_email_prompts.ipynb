{
 "cells": [
  {
   "cell_type": "markdown",
   "metadata": {
    "cell_id": "f42defb121324d04893e74aa4065f403",
    "deepnote_cell_type": "text-cell-h1",
    "formattedRanges": []
   },
   "source": [
    "# README"
   ]
  },
  {
   "cell_type": "markdown",
   "metadata": {
    "cell_id": "3d7d1c329eca4698b2cf034067bb0d0c",
    "deepnote_cell_type": "text-cell-p",
    "formattedRanges": []
   },
   "source": [
    "This notebook contains analysis for different local LLMs each beoing prompted with the task generating an emails with different output length requirements."
   ]
  },
  {
   "cell_type": "markdown",
   "metadata": {
    "cell_id": "257f23b3df0a42858d56fae1aa7787c2",
    "deepnote_app_block_visible": false,
    "deepnote_cell_type": "text-cell-h2",
    "formattedRanges": [],
    "is_collapsed": false
   },
   "source": [
    "## Links"
   ]
  },
  {
   "cell_type": "markdown",
   "metadata": {
    "cell_id": "aa5a21db33dc40e491a1968e4040ae68",
    "deepnote_cell_type": "text-cell-p",
    "formattedRanges": [
     {
      "fromCodePoint": 6,
      "ranges": [],
      "toCodePoint": 82,
      "type": "link",
      "url": "https://github.com/envite-consulting/ollama-llm-energy-measurement/tree/main"
     }
    ]
   },
   "source": [
    "repo: https://github.com/envite-consulting/ollama-llm-energy-measurement/tree/main"
   ]
  },
  {
   "cell_type": "markdown",
   "metadata": {
    "cell_id": "cfacae15d5774cd3a5e19e127ed2104f",
    "deepnote_cell_type": "text-cell-p",
    "formattedRanges": [
     {
      "fromCodePoint": 13,
      "ranges": [],
      "toCodePoint": 47,
      "type": "link",
      "url": "https://api.green-coding.io/docs#/"
     }
    ]
   },
   "source": [
    "OpenAPI GMT: https://api.green-coding.io/docs#/"
   ]
  },
  {
   "cell_type": "markdown",
   "metadata": {
    "cell_id": "d66e68620e2c4c68a544a6c264c71d5d",
    "deepnote_cell_type": "separator"
   },
   "source": [
    "<hr>"
   ]
  },
  {
   "cell_type": "markdown",
   "metadata": {
    "cell_id": "b132218484594417a36cf891e36940c7",
    "deepnote_cell_type": "text-cell-h2",
    "formattedRanges": []
   },
   "source": [
    "## TODO"
   ]
  },
  {
   "cell_type": "markdown",
   "metadata": {
    "cell_id": "ebe0cf27ba5a41faa836972a64aacc63",
    "checked": false,
    "deepnote_cell_type": "text-cell-todo",
    "formattedRanges": []
   },
   "source": [
    "- [ ] import runs from GMT"
   ]
  },
  {
   "cell_type": "markdown",
   "metadata": {
    "cell_id": "8df605209b8341909d4a6b9932d41ebf",
    "checked": false,
    "deepnote_cell_type": "text-cell-todo",
    "formattedRanges": []
   },
   "source": [
    "- [ ] add interactive element to select run_ids"
   ]
  },
  {
   "cell_type": "markdown",
   "metadata": {
    "cell_id": "83ef5ba282134d44a6f8e9ce3e4526b6",
    "deepnote_app_block_visible": false,
    "deepnote_cell_type": "text-cell-h1",
    "formattedRanges": [],
    "is_collapsed": false
   },
   "source": [
    "# Notebook"
   ]
  },
  {
   "cell_type": "markdown",
   "metadata": {
    "cell_id": "f2c637bf360b4433abc86caf04d45a8b",
    "deepnote_app_block_visible": true,
    "deepnote_cell_type": "text-cell-h2",
    "formattedRanges": []
   },
   "source": [
    "## Imports"
   ]
  },
  {
   "cell_type": "code",
   "execution_count": 1,
   "metadata": {
    "cell_id": "632537f5cbe04207b35b19bbe7c060ff",
    "deepnote_cell_type": "code",
    "execution_context_id": "6cf7157e-d8f7-4b9b-b2f9-ac8a3a37ab1a",
    "execution_millis": 5,
    "execution_start": 1751527367483,
    "source_hash": "2ba341dd"
   },
   "outputs": [],
   "source": [
    "import requests\n",
    "import pandas as pd\n",
    "from IPython.display import HTML"
   ]
  },
  {
   "cell_type": "markdown",
   "metadata": {
    "cell_id": "780a89b1a5ef47e69f13c71036c92e1f",
    "deepnote_cell_type": "text-cell-h2",
    "formattedRanges": []
   },
   "source": [
    "## Input Parameters"
   ]
  },
  {
   "cell_type": "code",
   "execution_count": 2,
   "metadata": {
    "cell_id": "cd5203741b034389af3d0a9d43d9600b",
    "deepnote_cell_type": "input-text",
    "deepnote_variable_name": "API_KEY",
    "deepnote_variable_value": "guihe_ASju4Fsa-FAshzh3zFH))afhhz",
    "execution_context_id": "6cf7157e-d8f7-4b9b-b2f9-ac8a3a37ab1a",
    "execution_millis": 0,
    "execution_start": 1751527367547,
    "source_hash": "d2b2047c"
   },
   "outputs": [],
   "source": [
    "API_KEY = ''"
   ]
  },
  {
   "cell_type": "code",
   "execution_count": 3,
   "metadata": {
    "cell_id": "a272e36d16c441a8b1d5a94965c2d71c",
    "deepnote_cell_type": "input-text",
    "deepnote_variable_name": "REPOSITORY",
    "deepnote_variable_value": "https://github.com/envite-consulting/ollama-llm-energy-measurement",
    "execution_context_id": "6cf7157e-d8f7-4b9b-b2f9-ac8a3a37ab1a",
    "execution_millis": 0,
    "execution_start": 1751527367597,
    "source_hash": "527e4c34"
   },
   "outputs": [],
   "source": [
    "REPOSITORY = 'https://github.com/envite-consulting/ollama-llm-energy-measurement'"
   ]
  },
  {
   "cell_type": "markdown",
   "metadata": {
    "cell_id": "7b46776e265447dc92aa3b8dee364508",
    "deepnote_app_block_visible": false,
    "deepnote_cell_type": "text-cell-h2",
    "formattedRanges": [],
    "is_collapsed": false
   },
   "source": [
    "## Getting Run_IDs"
   ]
  },
  {
   "cell_type": "code",
   "execution_count": 4,
   "metadata": {
    "cell_id": "cb599bd35699469eaf952378458b3c4d",
    "deepnote_cell_type": "code",
    "deepnote_variable_name": "",
    "execution_context_id": "6cf7157e-d8f7-4b9b-b2f9-ac8a3a37ab1a",
    "execution_millis": 280,
    "execution_start": 1751527367658,
    "source_hash": "27906d16",
    "sql_integration_id": ""
   },
   "outputs": [
    {
     "name": "stdout",
     "output_type": "stream",
     "text": [
      "Request Status: 200 OK\n",
      "Number of Runs: 20\n"
     ]
    }
   ],
   "source": [
    "def get_run_ids():\n",
    "    url = \"https://api.green-coding.io/v2/runs\"  # Replace with the actual endpoint from the OpenAPI spec\n",
    "    headers = {\n",
    "        \"x-authentication\": API_KEY\n",
    "    }\n",
    "    params = {\n",
    "        \"uri\": REPOSITORY\n",
    "    }\n",
    "\n",
    "    response = requests.get(url, headers=headers, params=params)\n",
    "    # Print the status of the request and the number of runs\n",
    "    print(f\"Request Status: {response.status_code} {response.reason}\")\n",
    "    response_json = response.json()\n",
    "    print(f\"Number of Runs: {len(response_json.get('data', []))}\")\n",
    "    return response\n",
    "\n",
    "response = get_run_ids()"
   ]
  },
  {
   "cell_type": "markdown",
   "metadata": {
    "cell_id": "7273263e077c475fbb0b881d14f5f7fb",
    "deepnote_cell_type": "text-cell-h3",
    "formattedRanges": []
   },
   "source": [
    "### Saving in Dataframe"
   ]
  },
  {
   "cell_type": "code",
   "execution_count": 5,
   "metadata": {
    "cell_id": "582a52c676534e9ab459cce6c0695a29",
    "deepnote_cell_type": "code",
    "deepnote_variable_name": "",
    "execution_context_id": "6cf7157e-d8f7-4b9b-b2f9-ac8a3a37ab1a",
    "execution_millis": 1,
    "execution_start": 1751527367987,
    "source_hash": "a9ad9535",
    "sql_integration_id": ""
   },
   "outputs": [
    {
     "data": {
      "application/vnd.deepnote.dataframe.v3+json": {
       "column_count": 6,
       "columns": [
        {
         "dtype": "object",
         "name": "Run_ID",
         "stats": {
          "categories": [
           {
            "count": 1,
            "name": "72fe8e85-e503-4756-a840-41889e561288"
           },
           {
            "count": 1,
            "name": "e14e9506-75ce-4a10-bc5a-e0a87748d702"
           },
           {
            "count": 18,
            "name": "18 others"
           }
          ],
          "histogram": null,
          "max": null,
          "min": null,
          "nan_count": 0,
          "unique_count": 20
         }
        },
        {
         "dtype": "object",
         "name": "Name",
         "stats": {
          "categories": [
           {
            "count": 3,
            "name": "EMail Ollama Measurement Deepseek 1.5B"
           },
           {
            "count": 3,
            "name": "EMail Ollama Measurement Llama 3.2 3B"
           },
           {
            "count": 14,
            "name": "6 others"
           }
          ],
          "histogram": null,
          "max": null,
          "min": null,
          "nan_count": 0,
          "unique_count": 8
         }
        },
        {
         "dtype": "object",
         "name": "Repo",
         "stats": {
          "categories": [
           {
            "count": 20,
            "name": "https://github.com/envite-consulting/ollama-llm-energy-measurement"
           }
          ],
          "histogram": null,
          "max": null,
          "min": null,
          "nan_count": 0,
          "unique_count": 1
         }
        },
        {
         "dtype": "object",
         "name": "Branch",
         "stats": {
          "categories": [
           {
            "count": 15,
            "name": "emailmeasurement"
           },
           {
            "count": 5,
            "name": "main"
           }
          ],
          "histogram": null,
          "max": null,
          "min": null,
          "nan_count": 0,
          "unique_count": 2
         }
        },
        {
         "dtype": "object",
         "name": "Time",
         "stats": {
          "categories": [
           {
            "count": 1,
            "name": "2025-06-27T16:25:34.204084+02:00"
           },
           {
            "count": 1,
            "name": "2025-06-27T16:16:35.031520+02:00"
           },
           {
            "count": 18,
            "name": "18 others"
           }
          ],
          "histogram": null,
          "max": null,
          "min": null,
          "nan_count": 0,
          "unique_count": 20
         }
        },
        {
         "dtype": "object",
         "name": "Usage_Scenario",
         "stats": {
          "categories": [
           {
            "count": 5,
            "name": "usage_scenario.yml"
           },
           {
            "count": 3,
            "name": "usage_scenario_email_deepseekr1_1_5b.yml"
           },
           {
            "count": 12,
            "name": "4 others"
           }
          ],
          "histogram": null,
          "max": null,
          "min": null,
          "nan_count": 0,
          "unique_count": 6
         }
        },
        {
         "dtype": "int64",
         "name": "_deepnote_index_column"
        }
       ],
       "preview_row_count": 20,
       "row_count": 20,
       "rows": [
        {
         "Branch": "emailmeasurement",
         "Name": "EMail Ollama Measurement Deepseek 1.5B",
         "Repo": "https://github.com/envite-consulting/ollama-llm-energy-measurement",
         "Run_ID": "72fe8e85-e503-4756-a840-41889e561288",
         "Time": "2025-06-27T16:25:34.204084+02:00",
         "Usage_Scenario": "usage_scenario_email_deepseekr1_1_5b.yml",
         "_deepnote_index_column": 0
        },
        {
         "Branch": "emailmeasurement",
         "Name": "EMail Ollama Measurement Deepseek 1.5B",
         "Repo": "https://github.com/envite-consulting/ollama-llm-energy-measurement",
         "Run_ID": "e14e9506-75ce-4a10-bc5a-e0a87748d702",
         "Time": "2025-06-27T16:16:35.031520+02:00",
         "Usage_Scenario": "usage_scenario_email_deepseekr1_1_5b.yml",
         "_deepnote_index_column": 1
        },
        {
         "Branch": "emailmeasurement",
         "Name": "EMail Ollama Measurement Deepseek 1.5B",
         "Repo": "https://github.com/envite-consulting/ollama-llm-energy-measurement",
         "Run_ID": "bd9415bf-9664-4ad5-b739-b593e7d3ff8d",
         "Time": "2025-06-27T16:08:34.851600+02:00",
         "Usage_Scenario": "usage_scenario_email_deepseekr1_1_5b.yml",
         "_deepnote_index_column": 2
        },
        {
         "Branch": "emailmeasurement",
         "Name": "EMail Ollama Measurement Llama 3.2 3B",
         "Repo": "https://github.com/envite-consulting/ollama-llm-energy-measurement",
         "Run_ID": "099086d9-793e-437d-86a0-e113679ec78e",
         "Time": "2025-06-27T15:59:36.678543+02:00",
         "Usage_Scenario": "usage_scenario_email_llama32_3b.yml",
         "_deepnote_index_column": 3
        },
        {
         "Branch": "emailmeasurement",
         "Name": "EMail Ollama Measurement Llama 3.2 3B",
         "Repo": "https://github.com/envite-consulting/ollama-llm-energy-measurement",
         "Run_ID": "d10d0b34-18b1-47c0-b2e8-1ffd52aea9c8",
         "Time": "2025-06-27T15:50:47.698796+02:00",
         "Usage_Scenario": "usage_scenario_email_llama32_3b.yml",
         "_deepnote_index_column": 4
        },
        {
         "Branch": "emailmeasurement",
         "Name": "EMail Ollama Measurement Llama 3.2 3B",
         "Repo": "https://github.com/envite-consulting/ollama-llm-energy-measurement",
         "Run_ID": "a0253185-b2bb-4b4e-8fee-cb0894536646",
         "Time": "2025-06-27T15:42:00.154661+02:00",
         "Usage_Scenario": "usage_scenario_email_llama32_3b.yml",
         "_deepnote_index_column": 5
        },
        {
         "Branch": "emailmeasurement",
         "Name": "EMail Ollama Measurement Llama 3.2 1B",
         "Repo": "https://github.com/envite-consulting/ollama-llm-energy-measurement",
         "Run_ID": "f751405c-a81a-4642-b8a4-321c135d8331",
         "Time": "2025-06-27T15:34:38.301686+02:00",
         "Usage_Scenario": "usage_scenario_email_llama32_1b.yml",
         "_deepnote_index_column": 6
        },
        {
         "Branch": "emailmeasurement",
         "Name": "EMail Ollama Measurement Llama 3.2 1B",
         "Repo": "https://github.com/envite-consulting/ollama-llm-energy-measurement",
         "Run_ID": "bc6e44f4-9e65-49dc-8ce7-50b22c95b796",
         "Time": "2025-06-27T15:27:16.846380+02:00",
         "Usage_Scenario": "usage_scenario_email_llama32_1b.yml",
         "_deepnote_index_column": 7
        },
        {
         "Branch": "emailmeasurement",
         "Name": "EMail Ollama Measurement Llama 3.2 1B",
         "Repo": "https://github.com/envite-consulting/ollama-llm-energy-measurement",
         "Run_ID": "f4bc5ea5-3a8e-4ee0-920b-d65c79e56e11",
         "Time": "2025-06-27T15:19:55.832297+02:00",
         "Usage_Scenario": "usage_scenario_email_llama32_1b.yml",
         "_deepnote_index_column": 8
        },
        {
         "Branch": "emailmeasurement",
         "Name": "EMail Ollama Measurement Gemma 3 4b",
         "Repo": "https://github.com/envite-consulting/ollama-llm-energy-measurement",
         "Run_ID": "d5c758ac-89dd-497f-822a-f76b65984e39",
         "Time": "2025-06-27T12:53:01.361964+02:00",
         "Usage_Scenario": "usage_scenario_email_gemma3_4b.yml",
         "_deepnote_index_column": 9
        }
       ],
       "type": "dataframe"
      },
      "text/html": [
       "<div>\n",
       "<style scoped>\n",
       "    .dataframe tbody tr th:only-of-type {\n",
       "        vertical-align: middle;\n",
       "    }\n",
       "\n",
       "    .dataframe tbody tr th {\n",
       "        vertical-align: top;\n",
       "    }\n",
       "\n",
       "    .dataframe thead th {\n",
       "        text-align: right;\n",
       "    }\n",
       "</style>\n",
       "<table border=\"1\" class=\"dataframe\">\n",
       "  <thead>\n",
       "    <tr style=\"text-align: right;\">\n",
       "      <th></th>\n",
       "      <th>Run_ID</th>\n",
       "      <th>Name</th>\n",
       "      <th>Repo</th>\n",
       "      <th>Branch</th>\n",
       "      <th>Time</th>\n",
       "      <th>Usage_Scenario</th>\n",
       "    </tr>\n",
       "  </thead>\n",
       "  <tbody>\n",
       "    <tr>\n",
       "      <th>0</th>\n",
       "      <td>72fe8e85-e503-4756-a840-41889e561288</td>\n",
       "      <td>EMail Ollama Measurement Deepseek 1.5B</td>\n",
       "      <td>https://github.com/envite-consulting/ollama-ll...</td>\n",
       "      <td>emailmeasurement</td>\n",
       "      <td>2025-06-27T16:25:34.204084+02:00</td>\n",
       "      <td>usage_scenario_email_deepseekr1_1_5b.yml</td>\n",
       "    </tr>\n",
       "    <tr>\n",
       "      <th>1</th>\n",
       "      <td>e14e9506-75ce-4a10-bc5a-e0a87748d702</td>\n",
       "      <td>EMail Ollama Measurement Deepseek 1.5B</td>\n",
       "      <td>https://github.com/envite-consulting/ollama-ll...</td>\n",
       "      <td>emailmeasurement</td>\n",
       "      <td>2025-06-27T16:16:35.031520+02:00</td>\n",
       "      <td>usage_scenario_email_deepseekr1_1_5b.yml</td>\n",
       "    </tr>\n",
       "    <tr>\n",
       "      <th>2</th>\n",
       "      <td>bd9415bf-9664-4ad5-b739-b593e7d3ff8d</td>\n",
       "      <td>EMail Ollama Measurement Deepseek 1.5B</td>\n",
       "      <td>https://github.com/envite-consulting/ollama-ll...</td>\n",
       "      <td>emailmeasurement</td>\n",
       "      <td>2025-06-27T16:08:34.851600+02:00</td>\n",
       "      <td>usage_scenario_email_deepseekr1_1_5b.yml</td>\n",
       "    </tr>\n",
       "    <tr>\n",
       "      <th>3</th>\n",
       "      <td>099086d9-793e-437d-86a0-e113679ec78e</td>\n",
       "      <td>EMail Ollama Measurement Llama 3.2 3B</td>\n",
       "      <td>https://github.com/envite-consulting/ollama-ll...</td>\n",
       "      <td>emailmeasurement</td>\n",
       "      <td>2025-06-27T15:59:36.678543+02:00</td>\n",
       "      <td>usage_scenario_email_llama32_3b.yml</td>\n",
       "    </tr>\n",
       "    <tr>\n",
       "      <th>4</th>\n",
       "      <td>d10d0b34-18b1-47c0-b2e8-1ffd52aea9c8</td>\n",
       "      <td>EMail Ollama Measurement Llama 3.2 3B</td>\n",
       "      <td>https://github.com/envite-consulting/ollama-ll...</td>\n",
       "      <td>emailmeasurement</td>\n",
       "      <td>2025-06-27T15:50:47.698796+02:00</td>\n",
       "      <td>usage_scenario_email_llama32_3b.yml</td>\n",
       "    </tr>\n",
       "    <tr>\n",
       "      <th>5</th>\n",
       "      <td>a0253185-b2bb-4b4e-8fee-cb0894536646</td>\n",
       "      <td>EMail Ollama Measurement Llama 3.2 3B</td>\n",
       "      <td>https://github.com/envite-consulting/ollama-ll...</td>\n",
       "      <td>emailmeasurement</td>\n",
       "      <td>2025-06-27T15:42:00.154661+02:00</td>\n",
       "      <td>usage_scenario_email_llama32_3b.yml</td>\n",
       "    </tr>\n",
       "    <tr>\n",
       "      <th>6</th>\n",
       "      <td>f751405c-a81a-4642-b8a4-321c135d8331</td>\n",
       "      <td>EMail Ollama Measurement Llama 3.2 1B</td>\n",
       "      <td>https://github.com/envite-consulting/ollama-ll...</td>\n",
       "      <td>emailmeasurement</td>\n",
       "      <td>2025-06-27T15:34:38.301686+02:00</td>\n",
       "      <td>usage_scenario_email_llama32_1b.yml</td>\n",
       "    </tr>\n",
       "    <tr>\n",
       "      <th>7</th>\n",
       "      <td>bc6e44f4-9e65-49dc-8ce7-50b22c95b796</td>\n",
       "      <td>EMail Ollama Measurement Llama 3.2 1B</td>\n",
       "      <td>https://github.com/envite-consulting/ollama-ll...</td>\n",
       "      <td>emailmeasurement</td>\n",
       "      <td>2025-06-27T15:27:16.846380+02:00</td>\n",
       "      <td>usage_scenario_email_llama32_1b.yml</td>\n",
       "    </tr>\n",
       "    <tr>\n",
       "      <th>8</th>\n",
       "      <td>f4bc5ea5-3a8e-4ee0-920b-d65c79e56e11</td>\n",
       "      <td>EMail Ollama Measurement Llama 3.2 1B</td>\n",
       "      <td>https://github.com/envite-consulting/ollama-ll...</td>\n",
       "      <td>emailmeasurement</td>\n",
       "      <td>2025-06-27T15:19:55.832297+02:00</td>\n",
       "      <td>usage_scenario_email_llama32_1b.yml</td>\n",
       "    </tr>\n",
       "    <tr>\n",
       "      <th>9</th>\n",
       "      <td>d5c758ac-89dd-497f-822a-f76b65984e39</td>\n",
       "      <td>EMail Ollama Measurement Gemma 3 4b</td>\n",
       "      <td>https://github.com/envite-consulting/ollama-ll...</td>\n",
       "      <td>emailmeasurement</td>\n",
       "      <td>2025-06-27T12:53:01.361964+02:00</td>\n",
       "      <td>usage_scenario_email_gemma3_4b.yml</td>\n",
       "    </tr>\n",
       "    <tr>\n",
       "      <th>10</th>\n",
       "      <td>75299ba8-6109-4c90-9c7f-352cc9c4d870</td>\n",
       "      <td>EMail Ollama Measurement Gemma 3 4b</td>\n",
       "      <td>https://github.com/envite-consulting/ollama-ll...</td>\n",
       "      <td>emailmeasurement</td>\n",
       "      <td>2025-06-27T12:39:21.513761+02:00</td>\n",
       "      <td>usage_scenario_email_gemma3_4b.yml</td>\n",
       "    </tr>\n",
       "    <tr>\n",
       "      <th>11</th>\n",
       "      <td>e7fdc1bc-02b9-435e-8dce-e9685b08d88a</td>\n",
       "      <td>EMail Ollama Measurement Gemma 3 4b</td>\n",
       "      <td>https://github.com/envite-consulting/ollama-ll...</td>\n",
       "      <td>emailmeasurement</td>\n",
       "      <td>2025-06-27T12:24:22.125186+02:00</td>\n",
       "      <td>usage_scenario_email_gemma3_4b.yml</td>\n",
       "    </tr>\n",
       "    <tr>\n",
       "      <th>12</th>\n",
       "      <td>fedc81ad-3caa-4ec6-9c3f-efbc0539f47c</td>\n",
       "      <td>EMail Ollama Measurement Gemma3 1b</td>\n",
       "      <td>https://github.com/envite-consulting/ollama-ll...</td>\n",
       "      <td>emailmeasurement</td>\n",
       "      <td>2025-06-27T12:16:08.454053+02:00</td>\n",
       "      <td>usage_scenario_email_gemma3_1b.yml</td>\n",
       "    </tr>\n",
       "    <tr>\n",
       "      <th>13</th>\n",
       "      <td>38087ab2-6f89-4e14-94f3-7771f5e1c4eb</td>\n",
       "      <td>EMail Ollama Measurement Gemma3 1b</td>\n",
       "      <td>https://github.com/envite-consulting/ollama-ll...</td>\n",
       "      <td>emailmeasurement</td>\n",
       "      <td>2025-06-27T12:06:40.637564+02:00</td>\n",
       "      <td>usage_scenario_email_gemma3_1b.yml</td>\n",
       "    </tr>\n",
       "    <tr>\n",
       "      <th>14</th>\n",
       "      <td>4c084331-6356-49ca-99e8-490ac62b7733</td>\n",
       "      <td>EMail Ollama Measurement Gemma3 1b</td>\n",
       "      <td>https://github.com/envite-consulting/ollama-ll...</td>\n",
       "      <td>emailmeasurement</td>\n",
       "      <td>2025-06-27T11:59:36.335645+02:00</td>\n",
       "      <td>usage_scenario_email_gemma3_1b.yml</td>\n",
       "    </tr>\n",
       "    <tr>\n",
       "      <th>15</th>\n",
       "      <td>ae3bcd36-ecab-42e0-a859-6aad96c05865</td>\n",
       "      <td>Ollama LLM Inference Measurement</td>\n",
       "      <td>https://github.com/envite-consulting/ollama-ll...</td>\n",
       "      <td>main</td>\n",
       "      <td>2025-06-26T15:16:10.474731+02:00</td>\n",
       "      <td>usage_scenario.yml</td>\n",
       "    </tr>\n",
       "    <tr>\n",
       "      <th>16</th>\n",
       "      <td>82237f3f-f67d-490b-a0da-6860061a2d5e</td>\n",
       "      <td>Ollama LLM Inference Measurement</td>\n",
       "      <td>https://github.com/envite-consulting/ollama-ll...</td>\n",
       "      <td>main</td>\n",
       "      <td>2025-06-20T08:56:53.758599+02:00</td>\n",
       "      <td>usage_scenario.yml</td>\n",
       "    </tr>\n",
       "    <tr>\n",
       "      <th>17</th>\n",
       "      <td>c6321918-63f6-48a6-9557-d24fc4d1eae2</td>\n",
       "      <td>Ollama LLM Energy Measurement</td>\n",
       "      <td>https://github.com/envite-consulting/ollama-ll...</td>\n",
       "      <td>main</td>\n",
       "      <td>2025-06-13T13:18:51.318098+02:00</td>\n",
       "      <td>usage_scenario.yml</td>\n",
       "    </tr>\n",
       "    <tr>\n",
       "      <th>18</th>\n",
       "      <td>fe8f9438-302c-4a80-bfb0-e13ffb493c2f</td>\n",
       "      <td>Ollama Inference Energy Measurement</td>\n",
       "      <td>https://github.com/envite-consulting/ollama-ll...</td>\n",
       "      <td>main</td>\n",
       "      <td>2025-06-13T12:15:09.106349+02:00</td>\n",
       "      <td>usage_scenario.yml</td>\n",
       "    </tr>\n",
       "    <tr>\n",
       "      <th>19</th>\n",
       "      <td>33e4286a-97fb-48ac-8a8f-480fcda98cbe</td>\n",
       "      <td>Ollama LLM Energy Measurement</td>\n",
       "      <td>https://github.com/envite-consulting/ollama-ll...</td>\n",
       "      <td>main</td>\n",
       "      <td>2025-04-17T17:26:13.093448+02:00</td>\n",
       "      <td>usage_scenario.yml</td>\n",
       "    </tr>\n",
       "  </tbody>\n",
       "</table>\n",
       "</div>"
      ],
      "text/plain": [
       "                                  Run_ID  \\\n",
       "0   72fe8e85-e503-4756-a840-41889e561288   \n",
       "1   e14e9506-75ce-4a10-bc5a-e0a87748d702   \n",
       "2   bd9415bf-9664-4ad5-b739-b593e7d3ff8d   \n",
       "3   099086d9-793e-437d-86a0-e113679ec78e   \n",
       "4   d10d0b34-18b1-47c0-b2e8-1ffd52aea9c8   \n",
       "5   a0253185-b2bb-4b4e-8fee-cb0894536646   \n",
       "6   f751405c-a81a-4642-b8a4-321c135d8331   \n",
       "7   bc6e44f4-9e65-49dc-8ce7-50b22c95b796   \n",
       "8   f4bc5ea5-3a8e-4ee0-920b-d65c79e56e11   \n",
       "9   d5c758ac-89dd-497f-822a-f76b65984e39   \n",
       "10  75299ba8-6109-4c90-9c7f-352cc9c4d870   \n",
       "11  e7fdc1bc-02b9-435e-8dce-e9685b08d88a   \n",
       "12  fedc81ad-3caa-4ec6-9c3f-efbc0539f47c   \n",
       "13  38087ab2-6f89-4e14-94f3-7771f5e1c4eb   \n",
       "14  4c084331-6356-49ca-99e8-490ac62b7733   \n",
       "15  ae3bcd36-ecab-42e0-a859-6aad96c05865   \n",
       "16  82237f3f-f67d-490b-a0da-6860061a2d5e   \n",
       "17  c6321918-63f6-48a6-9557-d24fc4d1eae2   \n",
       "18  fe8f9438-302c-4a80-bfb0-e13ffb493c2f   \n",
       "19  33e4286a-97fb-48ac-8a8f-480fcda98cbe   \n",
       "\n",
       "                                      Name  \\\n",
       "0   EMail Ollama Measurement Deepseek 1.5B   \n",
       "1   EMail Ollama Measurement Deepseek 1.5B   \n",
       "2   EMail Ollama Measurement Deepseek 1.5B   \n",
       "3    EMail Ollama Measurement Llama 3.2 3B   \n",
       "4    EMail Ollama Measurement Llama 3.2 3B   \n",
       "5    EMail Ollama Measurement Llama 3.2 3B   \n",
       "6    EMail Ollama Measurement Llama 3.2 1B   \n",
       "7    EMail Ollama Measurement Llama 3.2 1B   \n",
       "8    EMail Ollama Measurement Llama 3.2 1B   \n",
       "9      EMail Ollama Measurement Gemma 3 4b   \n",
       "10     EMail Ollama Measurement Gemma 3 4b   \n",
       "11     EMail Ollama Measurement Gemma 3 4b   \n",
       "12      EMail Ollama Measurement Gemma3 1b   \n",
       "13      EMail Ollama Measurement Gemma3 1b   \n",
       "14      EMail Ollama Measurement Gemma3 1b   \n",
       "15        Ollama LLM Inference Measurement   \n",
       "16        Ollama LLM Inference Measurement   \n",
       "17           Ollama LLM Energy Measurement   \n",
       "18     Ollama Inference Energy Measurement   \n",
       "19           Ollama LLM Energy Measurement   \n",
       "\n",
       "                                                 Repo            Branch  \\\n",
       "0   https://github.com/envite-consulting/ollama-ll...  emailmeasurement   \n",
       "1   https://github.com/envite-consulting/ollama-ll...  emailmeasurement   \n",
       "2   https://github.com/envite-consulting/ollama-ll...  emailmeasurement   \n",
       "3   https://github.com/envite-consulting/ollama-ll...  emailmeasurement   \n",
       "4   https://github.com/envite-consulting/ollama-ll...  emailmeasurement   \n",
       "5   https://github.com/envite-consulting/ollama-ll...  emailmeasurement   \n",
       "6   https://github.com/envite-consulting/ollama-ll...  emailmeasurement   \n",
       "7   https://github.com/envite-consulting/ollama-ll...  emailmeasurement   \n",
       "8   https://github.com/envite-consulting/ollama-ll...  emailmeasurement   \n",
       "9   https://github.com/envite-consulting/ollama-ll...  emailmeasurement   \n",
       "10  https://github.com/envite-consulting/ollama-ll...  emailmeasurement   \n",
       "11  https://github.com/envite-consulting/ollama-ll...  emailmeasurement   \n",
       "12  https://github.com/envite-consulting/ollama-ll...  emailmeasurement   \n",
       "13  https://github.com/envite-consulting/ollama-ll...  emailmeasurement   \n",
       "14  https://github.com/envite-consulting/ollama-ll...  emailmeasurement   \n",
       "15  https://github.com/envite-consulting/ollama-ll...              main   \n",
       "16  https://github.com/envite-consulting/ollama-ll...              main   \n",
       "17  https://github.com/envite-consulting/ollama-ll...              main   \n",
       "18  https://github.com/envite-consulting/ollama-ll...              main   \n",
       "19  https://github.com/envite-consulting/ollama-ll...              main   \n",
       "\n",
       "                                Time                            Usage_Scenario  \n",
       "0   2025-06-27T16:25:34.204084+02:00  usage_scenario_email_deepseekr1_1_5b.yml  \n",
       "1   2025-06-27T16:16:35.031520+02:00  usage_scenario_email_deepseekr1_1_5b.yml  \n",
       "2   2025-06-27T16:08:34.851600+02:00  usage_scenario_email_deepseekr1_1_5b.yml  \n",
       "3   2025-06-27T15:59:36.678543+02:00       usage_scenario_email_llama32_3b.yml  \n",
       "4   2025-06-27T15:50:47.698796+02:00       usage_scenario_email_llama32_3b.yml  \n",
       "5   2025-06-27T15:42:00.154661+02:00       usage_scenario_email_llama32_3b.yml  \n",
       "6   2025-06-27T15:34:38.301686+02:00       usage_scenario_email_llama32_1b.yml  \n",
       "7   2025-06-27T15:27:16.846380+02:00       usage_scenario_email_llama32_1b.yml  \n",
       "8   2025-06-27T15:19:55.832297+02:00       usage_scenario_email_llama32_1b.yml  \n",
       "9   2025-06-27T12:53:01.361964+02:00        usage_scenario_email_gemma3_4b.yml  \n",
       "10  2025-06-27T12:39:21.513761+02:00        usage_scenario_email_gemma3_4b.yml  \n",
       "11  2025-06-27T12:24:22.125186+02:00        usage_scenario_email_gemma3_4b.yml  \n",
       "12  2025-06-27T12:16:08.454053+02:00        usage_scenario_email_gemma3_1b.yml  \n",
       "13  2025-06-27T12:06:40.637564+02:00        usage_scenario_email_gemma3_1b.yml  \n",
       "14  2025-06-27T11:59:36.335645+02:00        usage_scenario_email_gemma3_1b.yml  \n",
       "15  2025-06-26T15:16:10.474731+02:00                        usage_scenario.yml  \n",
       "16  2025-06-20T08:56:53.758599+02:00                        usage_scenario.yml  \n",
       "17  2025-06-13T13:18:51.318098+02:00                        usage_scenario.yml  \n",
       "18  2025-06-13T12:15:09.106349+02:00                        usage_scenario.yml  \n",
       "19  2025-04-17T17:26:13.093448+02:00                        usage_scenario.yml  "
      ]
     },
     "execution_count": 5,
     "metadata": {},
     "output_type": "execute_result"
    }
   ],
   "source": [
    "def display_gmt_data_as_dataframe(response):\n",
    "    # Extract the 'data' property from the response\n",
    "    data = response.json().get('data', [])\n",
    "\n",
    "    # Create a DataFrame with the first 7 entries of each row\n",
    "    df = pd.DataFrame(data, columns=['Run_ID', 'Name', 'Repo', 'Branch', 'Time', 'unknown', 'Usage_Scenario'] + [f'Extra_{i}' for i in range(len(data[0]) - 7)])\n",
    "    df = df[['Run_ID', 'Name', 'Repo', 'Branch', 'Time', 'Usage_Scenario']]  # Keep only the required columns, excluding 'unknown'\n",
    "\n",
    "    return df\n",
    "\n",
    "gmt_dataframe = display_gmt_data_as_dataframe(response)\n",
    "\n",
    "# Uncomment to see the dataframe\n",
    "gmt_dataframe"
   ]
  },
  {
   "cell_type": "markdown",
   "metadata": {
    "cell_id": "f3564baee71e4071bbe7bc5b6f5ceb00",
    "deepnote_app_block_visible": false,
    "deepnote_cell_type": "text-cell-h2",
    "formattedRanges": [],
    "is_collapsed": false
   },
   "source": [
    "## Select Runs"
   ]
  },
  {
   "cell_type": "code",
   "execution_count": 6,
   "metadata": {
    "cell_id": "68722afb0fe3433c8978dc79b1433d89",
    "deepnote_cell_type": "code",
    "execution_context_id": "6cf7157e-d8f7-4b9b-b2f9-ac8a3a37ab1a",
    "execution_millis": 0,
    "execution_start": 1751527368037,
    "source_hash": "bc887e08"
   },
   "outputs": [],
   "source": [
    "# this is hardcoded for now, a select element should be added later\n",
    "\n",
    "# hard-coding DeepSeek runs for now\n",
    "selected_ids = [\n",
    "    '72fe8e85-e503-4756-a840-41889e561288',\n",
    "    'e14e9506-75ce-4a10-bc5a-e0a87748d702',\n",
    "    'bd9415bf-9664-4ad5-b739-b593e7d3ff8d'\n",
    "]\n",
    "\n",
    "selected_id= '72fe8e85-e503-4756-a840-41889e561288'"
   ]
  },
  {
   "cell_type": "markdown",
   "metadata": {
    "cell_id": "03ddc34c220544059ca039bd44444563",
    "deepnote_cell_type": "text-cell-h3",
    "formattedRanges": []
   },
   "source": [
    "### Fetch Measurement Data for Runs"
   ]
  },
  {
   "cell_type": "code",
   "execution_count": 7,
   "metadata": {
    "cell_id": "6f8c8624becc445eb23809e6bbca7047",
    "deepnote_cell_type": "code",
    "deepnote_variable_name": "",
    "execution_context_id": "6cf7157e-d8f7-4b9b-b2f9-ac8a3a37ab1a",
    "execution_millis": 0,
    "execution_start": 1751527368087,
    "source_hash": "5a22738b",
    "sql_integration_id": ""
   },
   "outputs": [],
   "source": [
    "def fetch_measurement_data(run_id):\n",
    "    url = f\"https://api.green-coding.io/v1/measurements/single/{run_id}\"\n",
    "    headers = {\n",
    "        \"x-authentication\": API_KEY\n",
    "    }\n",
    "    response = requests.get(url, headers=headers)\n",
    "    return response.json()\n",
    "\n",
    "# Fetch data for each selected Run_ID\n",
    "    measurement_data = fetch_measurement_data(selected_id)[data]\n",
    "   "
   ]
  },
  {
   "cell_type": "markdown",
   "metadata": {
    "cell_id": "b001047e1273447ba4d23adfb8654139",
    "deepnote_cell_type": "text-cell-h3",
    "formattedRanges": []
   },
   "source": [
    "### Fetch Measurement Data for Phases"
   ]
  },
  {
   "cell_type": "code",
   "execution_count": 8,
   "metadata": {
    "cell_id": "f5d7420789734a82a14a5d3883038d2a",
    "deepnote_cell_type": "code",
    "execution_context_id": "6cf7157e-d8f7-4b9b-b2f9-ac8a3a37ab1a",
    "execution_millis": 437,
    "execution_start": 1751527368147,
    "source_hash": "27c11a34"
   },
   "outputs": [
    {
     "data": {
      "text/plain": [
       "{'phase_time_syscall_system': {'type': 'TOTAL',\n",
       "  'unit': 'us',\n",
       "  'data': {'[SYSTEM]': {'name': '[SYSTEM]',\n",
       "    'p_value': None,\n",
       "    'is_significant': None,\n",
       "    'data': {'72fe8e85-e503-4756-a840-41889e561288': {'mean': 60158757,\n",
       "      'max': None,\n",
       "      'min': None,\n",
       "      'max_mean': None,\n",
       "      'min_mean': None,\n",
       "      'stddev': None,\n",
       "      'sr_avg_avg': None,\n",
       "      'sr_max_max': None,\n",
       "      'sr_95p_max': None,\n",
       "      'ci': None,\n",
       "      'p_value': None,\n",
       "      'is_significant': None,\n",
       "      'values': [60158757]}}}}},\n",
       " 'cpu_energy_rapl_msr_component': {'type': 'TOTAL',\n",
       "  'unit': 'uJ',\n",
       "  'data': {'Package_0': {'name': 'Package_0',\n",
       "    'p_value': None,\n",
       "    'is_significant': None,\n",
       "    'data': {'72fe8e85-e503-4756-a840-41889e561288': {'mean': 495558540,\n",
       "      'max': None,\n",
       "      'min': None,\n",
       "      'max_mean': None,\n",
       "      'min_mean': None,\n",
       "      'stddev': None,\n",
       "      'sr_avg_avg': 99247,\n",
       "      'sr_max_max': 100826,\n",
       "      'sr_95p_max': 99446,\n",
       "      'ci': None,\n",
       "      'p_value': None,\n",
       "      'is_significant': None,\n",
       "      'values': [495558540]}}}}},\n",
       " 'cpu_power_rapl_msr_component': {'type': 'MEAN',\n",
       "  'unit': 'mW',\n",
       "  'data': {'Package_0': {'name': 'Package_0',\n",
       "    'p_value': None,\n",
       "    'is_significant': None,\n",
       "    'data': {'72fe8e85-e503-4756-a840-41889e561288': {'mean': 8238,\n",
       "      'max': 9723,\n",
       "      'min': 7836,\n",
       "      'max_mean': 9723,\n",
       "      'min_mean': 7836,\n",
       "      'stddev': None,\n",
       "      'sr_avg_avg': 99247,\n",
       "      'sr_max_max': 100826,\n",
       "      'sr_95p_max': 99446,\n",
       "      'ci': None,\n",
       "      'p_value': None,\n",
       "      'is_significant': None,\n",
       "      'values': [8238]}}}}},\n",
       " 'cpu_utilization_cgroup_system': {'type': 'MEAN',\n",
       "  'unit': 'Ratio',\n",
       "  'data': {'GMT Overhead': {'name': 'GMT Overhead',\n",
       "    'p_value': None,\n",
       "    'is_significant': None,\n",
       "    'data': {'72fe8e85-e503-4756-a840-41889e561288': {'mean': 55,\n",
       "      'max': 143,\n",
       "      'min': 25,\n",
       "      'max_mean': 143,\n",
       "      'min_mean': 25,\n",
       "      'stddev': None,\n",
       "      'sr_avg_avg': 99457,\n",
       "      'sr_max_max': 101009,\n",
       "      'sr_95p_max': 99470,\n",
       "      'ci': None,\n",
       "      'p_value': None,\n",
       "      'is_significant': None,\n",
       "      'values': [55]}}}}},\n",
       " 'cpu_utilization_procfs_system': {'type': 'MEAN',\n",
       "  'unit': 'Ratio',\n",
       "  'data': {'[SYSTEM]': {'name': '[SYSTEM]',\n",
       "    'p_value': None,\n",
       "    'is_significant': None,\n",
       "    'data': {'72fe8e85-e503-4756-a840-41889e561288': {'mean': 56,\n",
       "      'max': 333,\n",
       "      'min': 0,\n",
       "      'max_mean': 333,\n",
       "      'min_mean': 0,\n",
       "      'stddev': None,\n",
       "      'sr_avg_avg': 99356,\n",
       "      'sr_max_max': 101049,\n",
       "      'sr_95p_max': 99363,\n",
       "      'ci': None,\n",
       "      'p_value': None,\n",
       "      'is_significant': None,\n",
       "      'values': [56]}}}}},\n",
       " 'gpu_energy_nvidia_nvml_component': {'type': 'TOTAL',\n",
       "  'unit': 'uJ',\n",
       "  'data': {'NVIDIA GeForce GTX 1080-0': {'name': 'NVIDIA GeForce GTX 1080-0',\n",
       "    'p_value': None,\n",
       "    'is_significant': None,\n",
       "    'data': {'72fe8e85-e503-4756-a840-41889e561288': {'mean': 1081319915,\n",
       "      'max': None,\n",
       "      'min': None,\n",
       "      'max_mean': None,\n",
       "      'min_mean': None,\n",
       "      'stddev': None,\n",
       "      'sr_avg_avg': 101221,\n",
       "      'sr_max_max': 107045,\n",
       "      'sr_95p_max': 101452,\n",
       "      'ci': None,\n",
       "      'p_value': None,\n",
       "      'is_significant': None,\n",
       "      'values': [1081319915]}}}}},\n",
       " 'gpu_power_nvidia_nvml_component': {'type': 'MEAN',\n",
       "  'unit': 'mW',\n",
       "  'data': {'NVIDIA GeForce GTX 1080-0': {'name': 'NVIDIA GeForce GTX 1080-0',\n",
       "    'p_value': None,\n",
       "    'is_significant': None,\n",
       "    'data': {'72fe8e85-e503-4756-a840-41889e561288': {'mean': 17974,\n",
       "      'max': 19000,\n",
       "      'min': 17842,\n",
       "      'max_mean': 19000,\n",
       "      'min_mean': 17842,\n",
       "      'stddev': None,\n",
       "      'sr_avg_avg': 101221,\n",
       "      'sr_max_max': 107045,\n",
       "      'sr_95p_max': 101452,\n",
       "      'ci': None,\n",
       "      'p_value': None,\n",
       "      'is_significant': None,\n",
       "      'values': [17974]}}}}},\n",
       " 'lmsensors_temperature_component': {'type': 'MEAN',\n",
       "  'unit': 'centi°C',\n",
       "  'data': {'coretemp-isa-0000_Package-id-0': {'name': 'coretemp-isa-0000_Package-id-0',\n",
       "    'p_value': None,\n",
       "    'is_significant': None,\n",
       "    'data': {'72fe8e85-e503-4756-a840-41889e561288': {'mean': 4011,\n",
       "      'max': 4100,\n",
       "      'min': 3900,\n",
       "      'max_mean': 4100,\n",
       "      'min_mean': 3900,\n",
       "      'stddev': None,\n",
       "      'sr_avg_avg': 99441,\n",
       "      'sr_max_max': 100966,\n",
       "      'sr_95p_max': 99462,\n",
       "      'ci': None,\n",
       "      'p_value': None,\n",
       "      'is_significant': None,\n",
       "      'values': [4011]}}},\n",
       "   'coretemp-isa-0000_Core-0': {'name': 'coretemp-isa-0000_Core-0',\n",
       "    'p_value': None,\n",
       "    'is_significant': None,\n",
       "    'data': {'72fe8e85-e503-4756-a840-41889e561288': {'mean': 4007,\n",
       "      'max': 4100,\n",
       "      'min': 3900,\n",
       "      'max_mean': 4100,\n",
       "      'min_mean': 3900,\n",
       "      'stddev': None,\n",
       "      'sr_avg_avg': 99441,\n",
       "      'sr_max_max': 100970,\n",
       "      'sr_95p_max': 99465,\n",
       "      'ci': None,\n",
       "      'p_value': None,\n",
       "      'is_significant': None,\n",
       "      'values': [4007]}}}}},\n",
       " 'memory_energy_rapl_msr_component': {'type': 'TOTAL',\n",
       "  'unit': 'uJ',\n",
       "  'data': {'DRAM_0': {'name': 'DRAM_0',\n",
       "    'p_value': None,\n",
       "    'is_significant': None,\n",
       "    'data': {'72fe8e85-e503-4756-a840-41889e561288': {'mean': 40810513,\n",
       "      'max': None,\n",
       "      'min': None,\n",
       "      'max_mean': None,\n",
       "      'min_mean': None,\n",
       "      'stddev': None,\n",
       "      'sr_avg_avg': 99247,\n",
       "      'sr_max_max': 100828,\n",
       "      'sr_95p_max': 99445,\n",
       "      'ci': None,\n",
       "      'p_value': None,\n",
       "      'is_significant': None,\n",
       "      'values': [40810513]}}}}},\n",
       " 'memory_power_rapl_msr_component': {'type': 'MEAN',\n",
       "  'unit': 'mW',\n",
       "  'data': {'DRAM_0': {'name': 'DRAM_0',\n",
       "    'p_value': None,\n",
       "    'is_significant': None,\n",
       "    'data': {'72fe8e85-e503-4756-a840-41889e561288': {'mean': 678,\n",
       "      'max': 695,\n",
       "      'min': 676,\n",
       "      'max_mean': 695,\n",
       "      'min_mean': 676,\n",
       "      'stddev': None,\n",
       "      'sr_avg_avg': 99247,\n",
       "      'sr_max_max': 100828,\n",
       "      'sr_95p_max': 99445,\n",
       "      'ci': None,\n",
       "      'p_value': None,\n",
       "      'is_significant': None,\n",
       "      'values': [678]}}}}},\n",
       " 'memory_used_cgroup_system': {'type': 'MEAN',\n",
       "  'unit': 'Bytes',\n",
       "  'data': {'GMT Overhead': {'name': 'GMT Overhead',\n",
       "    'p_value': None,\n",
       "    'is_significant': None,\n",
       "    'data': {'72fe8e85-e503-4756-a840-41889e561288': {'mean': 115541492,\n",
       "      'max': 115628224,\n",
       "      'min': 115428448,\n",
       "      'max_mean': 115628224,\n",
       "      'min_mean': 115428448,\n",
       "      'stddev': None,\n",
       "      'sr_avg_avg': 99365,\n",
       "      'sr_max_max': 100895,\n",
       "      'sr_95p_max': 99452,\n",
       "      'ci': None,\n",
       "      'p_value': None,\n",
       "      'is_significant': None,\n",
       "      'values': [115541492]}}}}},\n",
       " 'psu_energy_ac_mcp_machine': {'type': 'TOTAL',\n",
       "  'unit': 'uJ',\n",
       "  'data': {'[MACHINE]': {'name': '[MACHINE]',\n",
       "    'p_value': None,\n",
       "    'is_significant': None,\n",
       "    'data': {'72fe8e85-e503-4756-a840-41889e561288': {'mean': 2889029137,\n",
       "      'max': None,\n",
       "      'min': None,\n",
       "      'max_mean': None,\n",
       "      'min_mean': None,\n",
       "      'stddev': None,\n",
       "      'sr_avg_avg': 101612,\n",
       "      'sr_max_max': 105614,\n",
       "      'sr_95p_max': 102989,\n",
       "      'ci': None,\n",
       "      'p_value': None,\n",
       "      'is_significant': None,\n",
       "      'values': [2889029137]}}}}},\n",
       " 'psu_power_ac_mcp_machine': {'type': 'MEAN',\n",
       "  'unit': 'mW',\n",
       "  'data': {'[MACHINE]': {'name': '[MACHINE]',\n",
       "    'p_value': None,\n",
       "    'is_significant': None,\n",
       "    'data': {'72fe8e85-e503-4756-a840-41889e561288': {'mean': 48023,\n",
       "      'max': 62651,\n",
       "      'min': 33928,\n",
       "      'max_mean': 62651,\n",
       "      'min_mean': 33928,\n",
       "      'stddev': None,\n",
       "      'sr_avg_avg': 101612,\n",
       "      'sr_max_max': 105614,\n",
       "      'sr_95p_max': 102989,\n",
       "      'ci': None,\n",
       "      'p_value': None,\n",
       "      'is_significant': None,\n",
       "      'values': [48023]}}}}},\n",
       " 'psu_carbon_ac_mcp_machine': {'type': 'TOTAL',\n",
       "  'unit': 'ug',\n",
       "  'data': {'[MACHINE]': {'name': '[MACHINE]',\n",
       "    'p_value': None,\n",
       "    'is_significant': None,\n",
       "    'data': {'72fe8e85-e503-4756-a840-41889e561288': {'mean': 349894,\n",
       "      'max': None,\n",
       "      'min': None,\n",
       "      'max_mean': None,\n",
       "      'min_mean': None,\n",
       "      'stddev': None,\n",
       "      'sr_avg_avg': 101612,\n",
       "      'sr_max_max': 105614,\n",
       "      'sr_95p_max': 102989,\n",
       "      'ci': None,\n",
       "      'p_value': None,\n",
       "      'is_significant': None,\n",
       "      'values': [349894]}}}}},\n",
       " 'embodied_carbon_share_machine': {'type': 'TOTAL',\n",
       "  'unit': 'ug',\n",
       "  'data': {'[SYSTEM]': {'name': '[SYSTEM]',\n",
       "    'p_value': None,\n",
       "    'is_significant': None,\n",
       "    'data': {'72fe8e85-e503-4756-a840-41889e561288': {'mean': 86320,\n",
       "      'max': None,\n",
       "      'min': None,\n",
       "      'max_mean': None,\n",
       "      'min_mean': None,\n",
       "      'stddev': None,\n",
       "      'sr_avg_avg': None,\n",
       "      'sr_max_max': None,\n",
       "      'sr_95p_max': None,\n",
       "      'ci': None,\n",
       "      'p_value': None,\n",
       "      'is_significant': None,\n",
       "      'values': [86320]}}}}}}"
      ]
     },
     "execution_count": 8,
     "metadata": {},
     "output_type": "execute_result"
    }
   ],
   "source": [
    "def fetch_phase_stats(selected_id):\n",
    "    url = f\"https://api.green-coding.io/v1/phase_stats/single/{selected_id}\"\n",
    "    headers = {\n",
    "        \"x-authentication\": API_KEY\n",
    "    }\n",
    "    response = requests.get(url, headers=headers)\n",
    "    if response.status_code == 200:\n",
    "        return response.json().get('data', {}).get('data', {})\n",
    "    else:\n",
    "        print(f\"Failed to fetch phase stats for Run ID {selected_id}: {response.status_code} {response.reason}\")\n",
    "        return null\n",
    "\n",
    "\n",
    "# Example usage\n",
    "phase_stats = fetch_phase_stats(selected_id)\n",
    "phase_stats['[BASELINE]']"
   ]
  },
  {
   "cell_type": "markdown",
   "metadata": {
    "cell_id": "fb0bb022893b4bfe8a588c866399e685",
    "color": "purple",
    "deepnote_cell_type": "text-cell-callout"
   },
   "source": [
    "> create a dataframe for each phase in phase_stats giving an overview of the contained measurements. include the name, the type, the unit  and the value of the mesaurement"
   ]
  },
  {
   "cell_type": "code",
   "execution_count": 15,
   "metadata": {
    "cell_id": "1901543e3d78449aade77f1f47346eca",
    "deepnote_cell_type": "code",
    "deepnote_table_loading": false,
    "deepnote_table_state": {
     "cellFormattingRules": [],
     "columnDisplayNames": [],
     "columnOrder": [
      "Name",
      "Type",
      "Unit",
      "Value"
     ],
     "conditionalFilters": [],
     "filters": [],
     "hiddenColumnIds": [],
     "pageIndex": 0,
     "pageSize": 25,
     "sortBy": [],
     "wrappedTextColumnIds": []
    },
    "deepnote_variable_name": "",
    "execution_context_id": "6cf7157e-d8f7-4b9b-b2f9-ac8a3a37ab1a",
    "execution_millis": 1,
    "execution_start": 1751528540487,
    "source_hash": "1335c4ee",
    "sql_integration_id": ""
   },
   "outputs": [
    {
     "data": {
      "application/vnd.deepnote.dataframe.v3+json": {
       "column_count": 5,
       "columns": [
        {
         "dtype": "object",
         "name": "Name",
         "stats": {
          "categories": [
           {
            "count": 2,
            "name": "lmsensors_temperature_component"
           },
           {
            "count": 1,
            "name": "phase_time_syscall_system"
           },
           {
            "count": 13,
            "name": "13 others"
           }
          ],
          "histogram": null,
          "max": null,
          "min": null,
          "nan_count": 0,
          "unique_count": 15
         }
        },
        {
         "dtype": "object",
         "name": "Component",
         "stats": {
          "categories": [
           {
            "count": 3,
            "name": "[SYSTEM]"
           },
           {
            "count": 3,
            "name": "[MACHINE]"
           },
           {
            "count": 10,
            "name": "6 others"
           }
          ],
          "histogram": null,
          "max": null,
          "min": null,
          "nan_count": 0,
          "unique_count": 8
         }
        },
        {
         "dtype": "object",
         "name": "Type",
         "stats": {
          "categories": [
           {
            "count": 9,
            "name": "MEAN"
           },
           {
            "count": 7,
            "name": "TOTAL"
           }
          ],
          "histogram": null,
          "max": null,
          "min": null,
          "nan_count": 0,
          "unique_count": 2
         }
        },
        {
         "dtype": "object",
         "name": "Unit",
         "stats": {
          "categories": [
           {
            "count": 4,
            "name": "uJ"
           },
           {
            "count": 4,
            "name": "mW"
           },
           {
            "count": 8,
            "name": "5 others"
           }
          ],
          "histogram": null,
          "max": null,
          "min": null,
          "nan_count": 0,
          "unique_count": 7
         }
        },
        {
         "dtype": "int64",
         "name": "Value",
         "stats": {
          "categories": null,
          "histogram": [
           {
            "bin_end": 288902963.2,
            "bin_start": 55,
            "count": 13
           },
           {
            "bin_end": 577805871.4,
            "bin_start": 288902963.2,
            "count": 1
           },
           {
            "bin_end": 866708779.5999999,
            "bin_start": 577805871.4,
            "count": 0
           },
           {
            "bin_end": 1155611687.8,
            "bin_start": 866708779.5999999,
            "count": 1
           },
           {
            "bin_end": 1444514596,
            "bin_start": 1155611687.8,
            "count": 0
           },
           {
            "bin_end": 1733417504.1999998,
            "bin_start": 1444514596,
            "count": 0
           },
           {
            "bin_end": 2022320412.3999999,
            "bin_start": 1733417504.1999998,
            "count": 0
           },
           {
            "bin_end": 2311223320.6,
            "bin_start": 2022320412.3999999,
            "count": 0
           },
           {
            "bin_end": 2600126228.7999997,
            "bin_start": 2311223320.6,
            "count": 0
           },
           {
            "bin_end": 2889029137,
            "bin_start": 2600126228.7999997,
            "count": 1
           }
          ],
          "max": "2889029137",
          "min": "55",
          "nan_count": 0,
          "unique_count": 16
         }
        },
        {
         "dtype": "int64",
         "name": "_deepnote_index_column"
        }
       ],
       "preview_row_count": 16,
       "row_count": 16,
       "rows": [
        {
         "Component": "[SYSTEM]",
         "Name": "phase_time_syscall_system",
         "Type": "TOTAL",
         "Unit": "us",
         "Value": 60158757,
         "_deepnote_index_column": 0
        },
        {
         "Component": "Package_0",
         "Name": "cpu_energy_rapl_msr_component",
         "Type": "TOTAL",
         "Unit": "uJ",
         "Value": 495558540,
         "_deepnote_index_column": 1
        },
        {
         "Component": "Package_0",
         "Name": "cpu_power_rapl_msr_component",
         "Type": "MEAN",
         "Unit": "mW",
         "Value": 8238,
         "_deepnote_index_column": 2
        },
        {
         "Component": "GMT Overhead",
         "Name": "cpu_utilization_cgroup_system",
         "Type": "MEAN",
         "Unit": "Ratio",
         "Value": 55,
         "_deepnote_index_column": 3
        },
        {
         "Component": "[SYSTEM]",
         "Name": "cpu_utilization_procfs_system",
         "Type": "MEAN",
         "Unit": "Ratio",
         "Value": 56,
         "_deepnote_index_column": 4
        },
        {
         "Component": "NVIDIA GeForce GTX 1080-0",
         "Name": "gpu_energy_nvidia_nvml_component",
         "Type": "TOTAL",
         "Unit": "uJ",
         "Value": 1081319915,
         "_deepnote_index_column": 5
        },
        {
         "Component": "NVIDIA GeForce GTX 1080-0",
         "Name": "gpu_power_nvidia_nvml_component",
         "Type": "MEAN",
         "Unit": "mW",
         "Value": 17974,
         "_deepnote_index_column": 6
        },
        {
         "Component": "coretemp-isa-0000_Package-id-0",
         "Name": "lmsensors_temperature_component",
         "Type": "MEAN",
         "Unit": "centi°C",
         "Value": 4011,
         "_deepnote_index_column": 7
        },
        {
         "Component": "coretemp-isa-0000_Core-0",
         "Name": "lmsensors_temperature_component",
         "Type": "MEAN",
         "Unit": "centi°C",
         "Value": 4007,
         "_deepnote_index_column": 8
        },
        {
         "Component": "DRAM_0",
         "Name": "memory_energy_rapl_msr_component",
         "Type": "TOTAL",
         "Unit": "uJ",
         "Value": 40810513,
         "_deepnote_index_column": 9
        },
        {
         "Component": "DRAM_0",
         "Name": "memory_power_rapl_msr_component",
         "Type": "MEAN",
         "Unit": "mW",
         "Value": 678,
         "_deepnote_index_column": 10
        },
        {
         "Component": "GMT Overhead",
         "Name": "memory_used_cgroup_system",
         "Type": "MEAN",
         "Unit": "Bytes",
         "Value": 115541492,
         "_deepnote_index_column": 11
        },
        {
         "Component": "[MACHINE]",
         "Name": "psu_energy_ac_mcp_machine",
         "Type": "TOTAL",
         "Unit": "uJ",
         "Value": 2889029137,
         "_deepnote_index_column": 12
        },
        {
         "Component": "[MACHINE]",
         "Name": "psu_power_ac_mcp_machine",
         "Type": "MEAN",
         "Unit": "mW",
         "Value": 48023,
         "_deepnote_index_column": 13
        },
        {
         "Component": "[MACHINE]",
         "Name": "psu_carbon_ac_mcp_machine",
         "Type": "TOTAL",
         "Unit": "ug",
         "Value": 349894,
         "_deepnote_index_column": 14
        },
        {
         "Component": "[SYSTEM]",
         "Name": "embodied_carbon_share_machine",
         "Type": "TOTAL",
         "Unit": "ug",
         "Value": 86320,
         "_deepnote_index_column": 15
        }
       ],
       "type": "dataframe"
      },
      "text/html": [
       "<div>\n",
       "<style scoped>\n",
       "    .dataframe tbody tr th:only-of-type {\n",
       "        vertical-align: middle;\n",
       "    }\n",
       "\n",
       "    .dataframe tbody tr th {\n",
       "        vertical-align: top;\n",
       "    }\n",
       "\n",
       "    .dataframe thead th {\n",
       "        text-align: right;\n",
       "    }\n",
       "</style>\n",
       "<table border=\"1\" class=\"dataframe\">\n",
       "  <thead>\n",
       "    <tr style=\"text-align: right;\">\n",
       "      <th></th>\n",
       "      <th>Name</th>\n",
       "      <th>Component</th>\n",
       "      <th>Type</th>\n",
       "      <th>Unit</th>\n",
       "      <th>Value</th>\n",
       "    </tr>\n",
       "  </thead>\n",
       "  <tbody>\n",
       "    <tr>\n",
       "      <th>0</th>\n",
       "      <td>phase_time_syscall_system</td>\n",
       "      <td>[SYSTEM]</td>\n",
       "      <td>TOTAL</td>\n",
       "      <td>us</td>\n",
       "      <td>60158757</td>\n",
       "    </tr>\n",
       "    <tr>\n",
       "      <th>1</th>\n",
       "      <td>cpu_energy_rapl_msr_component</td>\n",
       "      <td>Package_0</td>\n",
       "      <td>TOTAL</td>\n",
       "      <td>uJ</td>\n",
       "      <td>495558540</td>\n",
       "    </tr>\n",
       "    <tr>\n",
       "      <th>2</th>\n",
       "      <td>cpu_power_rapl_msr_component</td>\n",
       "      <td>Package_0</td>\n",
       "      <td>MEAN</td>\n",
       "      <td>mW</td>\n",
       "      <td>8238</td>\n",
       "    </tr>\n",
       "    <tr>\n",
       "      <th>3</th>\n",
       "      <td>cpu_utilization_cgroup_system</td>\n",
       "      <td>GMT Overhead</td>\n",
       "      <td>MEAN</td>\n",
       "      <td>Ratio</td>\n",
       "      <td>55</td>\n",
       "    </tr>\n",
       "    <tr>\n",
       "      <th>4</th>\n",
       "      <td>cpu_utilization_procfs_system</td>\n",
       "      <td>[SYSTEM]</td>\n",
       "      <td>MEAN</td>\n",
       "      <td>Ratio</td>\n",
       "      <td>56</td>\n",
       "    </tr>\n",
       "    <tr>\n",
       "      <th>5</th>\n",
       "      <td>gpu_energy_nvidia_nvml_component</td>\n",
       "      <td>NVIDIA GeForce GTX 1080-0</td>\n",
       "      <td>TOTAL</td>\n",
       "      <td>uJ</td>\n",
       "      <td>1081319915</td>\n",
       "    </tr>\n",
       "    <tr>\n",
       "      <th>6</th>\n",
       "      <td>gpu_power_nvidia_nvml_component</td>\n",
       "      <td>NVIDIA GeForce GTX 1080-0</td>\n",
       "      <td>MEAN</td>\n",
       "      <td>mW</td>\n",
       "      <td>17974</td>\n",
       "    </tr>\n",
       "    <tr>\n",
       "      <th>7</th>\n",
       "      <td>lmsensors_temperature_component</td>\n",
       "      <td>coretemp-isa-0000_Package-id-0</td>\n",
       "      <td>MEAN</td>\n",
       "      <td>centi°C</td>\n",
       "      <td>4011</td>\n",
       "    </tr>\n",
       "    <tr>\n",
       "      <th>8</th>\n",
       "      <td>lmsensors_temperature_component</td>\n",
       "      <td>coretemp-isa-0000_Core-0</td>\n",
       "      <td>MEAN</td>\n",
       "      <td>centi°C</td>\n",
       "      <td>4007</td>\n",
       "    </tr>\n",
       "    <tr>\n",
       "      <th>9</th>\n",
       "      <td>memory_energy_rapl_msr_component</td>\n",
       "      <td>DRAM_0</td>\n",
       "      <td>TOTAL</td>\n",
       "      <td>uJ</td>\n",
       "      <td>40810513</td>\n",
       "    </tr>\n",
       "    <tr>\n",
       "      <th>10</th>\n",
       "      <td>memory_power_rapl_msr_component</td>\n",
       "      <td>DRAM_0</td>\n",
       "      <td>MEAN</td>\n",
       "      <td>mW</td>\n",
       "      <td>678</td>\n",
       "    </tr>\n",
       "    <tr>\n",
       "      <th>11</th>\n",
       "      <td>memory_used_cgroup_system</td>\n",
       "      <td>GMT Overhead</td>\n",
       "      <td>MEAN</td>\n",
       "      <td>Bytes</td>\n",
       "      <td>115541492</td>\n",
       "    </tr>\n",
       "    <tr>\n",
       "      <th>12</th>\n",
       "      <td>psu_energy_ac_mcp_machine</td>\n",
       "      <td>[MACHINE]</td>\n",
       "      <td>TOTAL</td>\n",
       "      <td>uJ</td>\n",
       "      <td>2889029137</td>\n",
       "    </tr>\n",
       "    <tr>\n",
       "      <th>13</th>\n",
       "      <td>psu_power_ac_mcp_machine</td>\n",
       "      <td>[MACHINE]</td>\n",
       "      <td>MEAN</td>\n",
       "      <td>mW</td>\n",
       "      <td>48023</td>\n",
       "    </tr>\n",
       "    <tr>\n",
       "      <th>14</th>\n",
       "      <td>psu_carbon_ac_mcp_machine</td>\n",
       "      <td>[MACHINE]</td>\n",
       "      <td>TOTAL</td>\n",
       "      <td>ug</td>\n",
       "      <td>349894</td>\n",
       "    </tr>\n",
       "    <tr>\n",
       "      <th>15</th>\n",
       "      <td>embodied_carbon_share_machine</td>\n",
       "      <td>[SYSTEM]</td>\n",
       "      <td>TOTAL</td>\n",
       "      <td>ug</td>\n",
       "      <td>86320</td>\n",
       "    </tr>\n",
       "  </tbody>\n",
       "</table>\n",
       "</div>"
      ],
      "text/plain": [
       "                                Name                       Component   Type  \\\n",
       "0          phase_time_syscall_system                        [SYSTEM]  TOTAL   \n",
       "1      cpu_energy_rapl_msr_component                       Package_0  TOTAL   \n",
       "2       cpu_power_rapl_msr_component                       Package_0   MEAN   \n",
       "3      cpu_utilization_cgroup_system                    GMT Overhead   MEAN   \n",
       "4      cpu_utilization_procfs_system                        [SYSTEM]   MEAN   \n",
       "5   gpu_energy_nvidia_nvml_component       NVIDIA GeForce GTX 1080-0  TOTAL   \n",
       "6    gpu_power_nvidia_nvml_component       NVIDIA GeForce GTX 1080-0   MEAN   \n",
       "7    lmsensors_temperature_component  coretemp-isa-0000_Package-id-0   MEAN   \n",
       "8    lmsensors_temperature_component        coretemp-isa-0000_Core-0   MEAN   \n",
       "9   memory_energy_rapl_msr_component                          DRAM_0  TOTAL   \n",
       "10   memory_power_rapl_msr_component                          DRAM_0   MEAN   \n",
       "11         memory_used_cgroup_system                    GMT Overhead   MEAN   \n",
       "12         psu_energy_ac_mcp_machine                       [MACHINE]  TOTAL   \n",
       "13          psu_power_ac_mcp_machine                       [MACHINE]   MEAN   \n",
       "14         psu_carbon_ac_mcp_machine                       [MACHINE]  TOTAL   \n",
       "15     embodied_carbon_share_machine                        [SYSTEM]  TOTAL   \n",
       "\n",
       "       Unit       Value  \n",
       "0        us    60158757  \n",
       "1        uJ   495558540  \n",
       "2        mW        8238  \n",
       "3     Ratio          55  \n",
       "4     Ratio          56  \n",
       "5        uJ  1081319915  \n",
       "6        mW       17974  \n",
       "7   centi°C        4011  \n",
       "8   centi°C        4007  \n",
       "9        uJ    40810513  \n",
       "10       mW         678  \n",
       "11    Bytes   115541492  \n",
       "12       uJ  2889029137  \n",
       "13       mW       48023  \n",
       "14       ug      349894  \n",
       "15       ug       86320  "
      ]
     },
     "execution_count": 15,
     "metadata": {},
     "output_type": "execute_result"
    }
   ],
   "source": [
    "# Adjusting the code to handle the structure of phase_stats correctly\n",
    "\n",
    "phase_dataframes = {}\n",
    "\n",
    "for phase, measurements in phase_stats.items():\n",
    "    rows = []\n",
    "    for measurement_name, measurement_details in measurements.items():\n",
    "        if 'data' in measurement_details:\n",
    "            for component_name, component_details in measurement_details['data'].items():\n",
    "                for run_id, run_data in component_details['data'].items():\n",
    "                    rows.append({\n",
    "                        'Name': measurement_name,\n",
    "                        'Component': component_name,\n",
    "                        'Type': measurement_details['type'],\n",
    "                        'Unit': measurement_details['unit'],\n",
    "                        'Value': run_data['mean']\n",
    "                    })\n",
    "    phase_dataframes[phase] = pd.DataFrame(rows)\n",
    "\n",
    "phase_dataframes['[BASELINE]']"
   ]
  },
  {
   "cell_type": "markdown",
   "metadata": {
    "cell_id": "ca35d8ca90614cb1aea2a42c8e2e4010",
    "deepnote_cell_type": "text-cell-p"
   },
   "source": [
    "The dataframes for each phase in `phase_stats` have been created, providing an overview of the measurements, including the name, type, unit, and value. Let me know if you need further processing or analysis."
   ]
  },
  {
   "cell_type": "code",
   "execution_count": 18,
   "metadata": {
    "cell_id": "785f852010a84a4ebc2027173a553e9e",
    "deepnote_cell_type": "code",
    "execution_context_id": "6cf7157e-d8f7-4b9b-b2f9-ac8a3a37ab1a",
    "execution_millis": 0,
    "execution_start": 1751529061857,
    "source_hash": "b9d53a60"
   },
   "outputs": [],
   "source": [
    "relevant_measurements = [\n",
    "    'phase_time_syscall_system',\n",
    "    'cpu_energy_rapl_msr_component',\n",
    "    'cpu_utilization_procfs_system',\n",
    "    'gpu_energy_nvidia_nvml_component',\n",
    "    'memory_energy_rapl_msr_component',\n",
    "]"
   ]
  },
  {
   "cell_type": "markdown",
   "metadata": {
    "cell_id": "c78ff7affa1c4f8cb0dfae01c1e2ea74",
    "color": "purple",
    "deepnote_cell_type": "text-cell-callout"
   },
   "source": [
    "> for each phase, create a new dataframe only containing the rows that have the names given in relevant_measurements"
   ]
  },
  {
   "cell_type": "code",
   "execution_count": 21,
   "metadata": {
    "cell_id": "757be7871df94e16940c1f90777dc059",
    "deepnote_cell_type": "code",
    "deepnote_variable_name": "",
    "execution_context_id": "6cf7157e-d8f7-4b9b-b2f9-ac8a3a37ab1a",
    "execution_millis": 0,
    "execution_start": 1751529174987,
    "source_hash": "21feedc9",
    "sql_integration_id": ""
   },
   "outputs": [
    {
     "data": {
      "application/vnd.deepnote.dataframe.v3+json": {
       "column_count": 5,
       "columns": [
        {
         "dtype": "object",
         "name": "Name",
         "stats": {
          "categories": [
           {
            "count": 1,
            "name": "phase_time_syscall_system"
           },
           {
            "count": 1,
            "name": "cpu_energy_rapl_msr_component"
           },
           {
            "count": 3,
            "name": "3 others"
           }
          ],
          "histogram": null,
          "max": null,
          "min": null,
          "nan_count": 0,
          "unique_count": 5
         }
        },
        {
         "dtype": "object",
         "name": "Component",
         "stats": {
          "categories": [
           {
            "count": 2,
            "name": "[SYSTEM]"
           },
           {
            "count": 1,
            "name": "Package_0"
           },
           {
            "count": 2,
            "name": "2 others"
           }
          ],
          "histogram": null,
          "max": null,
          "min": null,
          "nan_count": 0,
          "unique_count": 4
         }
        },
        {
         "dtype": "object",
         "name": "Type",
         "stats": {
          "categories": [
           {
            "count": 4,
            "name": "TOTAL"
           },
           {
            "count": 1,
            "name": "MEAN"
           }
          ],
          "histogram": null,
          "max": null,
          "min": null,
          "nan_count": 0,
          "unique_count": 2
         }
        },
        {
         "dtype": "object",
         "name": "Unit",
         "stats": {
          "categories": [
           {
            "count": 3,
            "name": "uJ"
           },
           {
            "count": 1,
            "name": "us"
           },
           {
            "count": 1,
            "name": "Ratio"
           }
          ],
          "histogram": null,
          "max": null,
          "min": null,
          "nan_count": 0,
          "unique_count": 3
         }
        },
        {
         "dtype": "int64",
         "name": "Value",
         "stats": {
          "categories": null,
          "histogram": [
           {
            "bin_end": 108132041.9,
            "bin_start": 56,
            "count": 3
           },
           {
            "bin_end": 216264027.8,
            "bin_start": 108132041.9,
            "count": 0
           },
           {
            "bin_end": 324396013.70000005,
            "bin_start": 216264027.8,
            "count": 0
           },
           {
            "bin_end": 432527999.6,
            "bin_start": 324396013.70000005,
            "count": 0
           },
           {
            "bin_end": 540659985.5,
            "bin_start": 432527999.6,
            "count": 1
           },
           {
            "bin_end": 648791971.4000001,
            "bin_start": 540659985.5,
            "count": 0
           },
           {
            "bin_end": 756923957.3000001,
            "bin_start": 648791971.4000001,
            "count": 0
           },
           {
            "bin_end": 865055943.2,
            "bin_start": 756923957.3000001,
            "count": 0
           },
           {
            "bin_end": 973187929.1,
            "bin_start": 865055943.2,
            "count": 0
           },
           {
            "bin_end": 1081319915,
            "bin_start": 973187929.1,
            "count": 1
           }
          ],
          "max": "1081319915",
          "min": "56",
          "nan_count": 0,
          "unique_count": 5
         }
        },
        {
         "dtype": "int64",
         "name": "_deepnote_index_column"
        }
       ],
       "preview_row_count": 5,
       "row_count": 5,
       "rows": [
        {
         "Component": "[SYSTEM]",
         "Name": "phase_time_syscall_system",
         "Type": "TOTAL",
         "Unit": "us",
         "Value": 60158757,
         "_deepnote_index_column": 0
        },
        {
         "Component": "Package_0",
         "Name": "cpu_energy_rapl_msr_component",
         "Type": "TOTAL",
         "Unit": "uJ",
         "Value": 495558540,
         "_deepnote_index_column": 1
        },
        {
         "Component": "[SYSTEM]",
         "Name": "cpu_utilization_procfs_system",
         "Type": "MEAN",
         "Unit": "Ratio",
         "Value": 56,
         "_deepnote_index_column": 4
        },
        {
         "Component": "NVIDIA GeForce GTX 1080-0",
         "Name": "gpu_energy_nvidia_nvml_component",
         "Type": "TOTAL",
         "Unit": "uJ",
         "Value": 1081319915,
         "_deepnote_index_column": 5
        },
        {
         "Component": "DRAM_0",
         "Name": "memory_energy_rapl_msr_component",
         "Type": "TOTAL",
         "Unit": "uJ",
         "Value": 40810513,
         "_deepnote_index_column": 9
        }
       ],
       "type": "dataframe"
      },
      "text/html": [
       "<div>\n",
       "<style scoped>\n",
       "    .dataframe tbody tr th:only-of-type {\n",
       "        vertical-align: middle;\n",
       "    }\n",
       "\n",
       "    .dataframe tbody tr th {\n",
       "        vertical-align: top;\n",
       "    }\n",
       "\n",
       "    .dataframe thead th {\n",
       "        text-align: right;\n",
       "    }\n",
       "</style>\n",
       "<table border=\"1\" class=\"dataframe\">\n",
       "  <thead>\n",
       "    <tr style=\"text-align: right;\">\n",
       "      <th></th>\n",
       "      <th>Name</th>\n",
       "      <th>Component</th>\n",
       "      <th>Type</th>\n",
       "      <th>Unit</th>\n",
       "      <th>Value</th>\n",
       "    </tr>\n",
       "  </thead>\n",
       "  <tbody>\n",
       "    <tr>\n",
       "      <th>0</th>\n",
       "      <td>phase_time_syscall_system</td>\n",
       "      <td>[SYSTEM]</td>\n",
       "      <td>TOTAL</td>\n",
       "      <td>us</td>\n",
       "      <td>60158757</td>\n",
       "    </tr>\n",
       "    <tr>\n",
       "      <th>1</th>\n",
       "      <td>cpu_energy_rapl_msr_component</td>\n",
       "      <td>Package_0</td>\n",
       "      <td>TOTAL</td>\n",
       "      <td>uJ</td>\n",
       "      <td>495558540</td>\n",
       "    </tr>\n",
       "    <tr>\n",
       "      <th>4</th>\n",
       "      <td>cpu_utilization_procfs_system</td>\n",
       "      <td>[SYSTEM]</td>\n",
       "      <td>MEAN</td>\n",
       "      <td>Ratio</td>\n",
       "      <td>56</td>\n",
       "    </tr>\n",
       "    <tr>\n",
       "      <th>5</th>\n",
       "      <td>gpu_energy_nvidia_nvml_component</td>\n",
       "      <td>NVIDIA GeForce GTX 1080-0</td>\n",
       "      <td>TOTAL</td>\n",
       "      <td>uJ</td>\n",
       "      <td>1081319915</td>\n",
       "    </tr>\n",
       "    <tr>\n",
       "      <th>9</th>\n",
       "      <td>memory_energy_rapl_msr_component</td>\n",
       "      <td>DRAM_0</td>\n",
       "      <td>TOTAL</td>\n",
       "      <td>uJ</td>\n",
       "      <td>40810513</td>\n",
       "    </tr>\n",
       "  </tbody>\n",
       "</table>\n",
       "</div>"
      ],
      "text/plain": [
       "                               Name                  Component   Type   Unit  \\\n",
       "0         phase_time_syscall_system                   [SYSTEM]  TOTAL     us   \n",
       "1     cpu_energy_rapl_msr_component                  Package_0  TOTAL     uJ   \n",
       "4     cpu_utilization_procfs_system                   [SYSTEM]   MEAN  Ratio   \n",
       "5  gpu_energy_nvidia_nvml_component  NVIDIA GeForce GTX 1080-0  TOTAL     uJ   \n",
       "9  memory_energy_rapl_msr_component                     DRAM_0  TOTAL     uJ   \n",
       "\n",
       "        Value  \n",
       "0    60158757  \n",
       "1   495558540  \n",
       "4          56  \n",
       "5  1081319915  \n",
       "9    40810513  "
      ]
     },
     "execution_count": 21,
     "metadata": {},
     "output_type": "execute_result"
    }
   ],
   "source": [
    "filtered_phase_dataframes = {}\n",
    "\n",
    "for phase, df in phase_dataframes.items():\n",
    "    filtered_phase_dataframes[phase] = df[df['Name'].isin(relevant_measurements)]\n",
    "\n",
    "filtered_phase_dataframes['[BASELINE]']"
   ]
  },
  {
   "cell_type": "markdown",
   "metadata": {
    "cell_id": "bc3b694a5098407a8df157d80e81b45c",
    "deepnote_cell_type": "text-cell-p"
   },
   "source": [
    "The filtered dataframes for each phase now only contain rows with names matching the relevant measurements. Let me know if you need further analysis or processing."
   ]
  },
  {
   "cell_type": "markdown",
   "metadata": {
    "cell_id": "f7031bf1887949819ce501b137d88579",
    "color": "purple",
    "deepnote_cell_type": "text-cell-callout"
   },
   "source": [
    "> Generate a single dataframe combining the info from all dataframes in filtered_phase_dataframes. each column should be a phase (key name in filtered_phase_dataframes), the rows are the same as the rows in the dataframes in filtered_phase_dataframes. for the value of each Cell, concatenate value and unit "
   ]
  },
  {
   "cell_type": "code",
   "execution_count": 27,
   "metadata": {
    "cell_id": "807ecf85528d49bfa2ba32acae775ee8",
    "deepnote_cell_type": "code",
    "deepnote_variable_name": "",
    "execution_context_id": "6cf7157e-d8f7-4b9b-b2f9-ac8a3a37ab1a",
    "execution_millis": 5,
    "execution_start": 1751529462737,
    "source_hash": "89a5874a",
    "sql_integration_id": ""
   },
   "outputs": [
    {
     "name": "stderr",
     "output_type": "stream",
     "text": [
      "/tmp/ipykernel_255/3672331139.py:7: SettingWithCopyWarning: \n",
      "A value is trying to be set on a copy of a slice from a DataFrame.\n",
      "Try using .loc[row_indexer,col_indexer] = value instead\n",
      "\n",
      "See the caveats in the documentation: https://pandas.pydata.org/pandas-docs/stable/user_guide/indexing.html#returning-a-view-versus-a-copy\n",
      "  df[phase] = df['Value'].astype(str) + ' ' + df['Unit']\n",
      "/tmp/ipykernel_255/3672331139.py:7: SettingWithCopyWarning: \n",
      "A value is trying to be set on a copy of a slice from a DataFrame.\n",
      "Try using .loc[row_indexer,col_indexer] = value instead\n",
      "\n",
      "See the caveats in the documentation: https://pandas.pydata.org/pandas-docs/stable/user_guide/indexing.html#returning-a-view-versus-a-copy\n",
      "  df[phase] = df['Value'].astype(str) + ' ' + df['Unit']\n",
      "/tmp/ipykernel_255/3672331139.py:7: SettingWithCopyWarning: \n",
      "A value is trying to be set on a copy of a slice from a DataFrame.\n",
      "Try using .loc[row_indexer,col_indexer] = value instead\n",
      "\n",
      "See the caveats in the documentation: https://pandas.pydata.org/pandas-docs/stable/user_guide/indexing.html#returning-a-view-versus-a-copy\n",
      "  df[phase] = df['Value'].astype(str) + ' ' + df['Unit']\n",
      "/tmp/ipykernel_255/3672331139.py:7: SettingWithCopyWarning: \n",
      "A value is trying to be set on a copy of a slice from a DataFrame.\n",
      "Try using .loc[row_indexer,col_indexer] = value instead\n",
      "\n",
      "See the caveats in the documentation: https://pandas.pydata.org/pandas-docs/stable/user_guide/indexing.html#returning-a-view-versus-a-copy\n",
      "  df[phase] = df['Value'].astype(str) + ' ' + df['Unit']\n",
      "/tmp/ipykernel_255/3672331139.py:7: SettingWithCopyWarning: \n",
      "A value is trying to be set on a copy of a slice from a DataFrame.\n",
      "Try using .loc[row_indexer,col_indexer] = value instead\n",
      "\n",
      "See the caveats in the documentation: https://pandas.pydata.org/pandas-docs/stable/user_guide/indexing.html#returning-a-view-versus-a-copy\n",
      "  df[phase] = df['Value'].astype(str) + ' ' + df['Unit']\n",
      "/tmp/ipykernel_255/3672331139.py:7: SettingWithCopyWarning: \n",
      "A value is trying to be set on a copy of a slice from a DataFrame.\n",
      "Try using .loc[row_indexer,col_indexer] = value instead\n",
      "\n",
      "See the caveats in the documentation: https://pandas.pydata.org/pandas-docs/stable/user_guide/indexing.html#returning-a-view-versus-a-copy\n",
      "  df[phase] = df['Value'].astype(str) + ' ' + df['Unit']\n",
      "/tmp/ipykernel_255/3672331139.py:7: SettingWithCopyWarning: \n",
      "A value is trying to be set on a copy of a slice from a DataFrame.\n",
      "Try using .loc[row_indexer,col_indexer] = value instead\n",
      "\n",
      "See the caveats in the documentation: https://pandas.pydata.org/pandas-docs/stable/user_guide/indexing.html#returning-a-view-versus-a-copy\n",
      "  df[phase] = df['Value'].astype(str) + ' ' + df['Unit']\n",
      "/tmp/ipykernel_255/3672331139.py:7: SettingWithCopyWarning: \n",
      "A value is trying to be set on a copy of a slice from a DataFrame.\n",
      "Try using .loc[row_indexer,col_indexer] = value instead\n",
      "\n",
      "See the caveats in the documentation: https://pandas.pydata.org/pandas-docs/stable/user_guide/indexing.html#returning-a-view-versus-a-copy\n",
      "  df[phase] = df['Value'].astype(str) + ' ' + df['Unit']\n",
      "/tmp/ipykernel_255/3672331139.py:7: SettingWithCopyWarning: \n",
      "A value is trying to be set on a copy of a slice from a DataFrame.\n",
      "Try using .loc[row_indexer,col_indexer] = value instead\n",
      "\n",
      "See the caveats in the documentation: https://pandas.pydata.org/pandas-docs/stable/user_guide/indexing.html#returning-a-view-versus-a-copy\n",
      "  df[phase] = df['Value'].astype(str) + ' ' + df['Unit']\n",
      "/tmp/ipykernel_255/3672331139.py:7: SettingWithCopyWarning: \n",
      "A value is trying to be set on a copy of a slice from a DataFrame.\n",
      "Try using .loc[row_indexer,col_indexer] = value instead\n",
      "\n",
      "See the caveats in the documentation: https://pandas.pydata.org/pandas-docs/stable/user_guide/indexing.html#returning-a-view-versus-a-copy\n",
      "  df[phase] = df['Value'].astype(str) + ' ' + df['Unit']\n",
      "/tmp/ipykernel_255/3672331139.py:7: SettingWithCopyWarning: \n",
      "A value is trying to be set on a copy of a slice from a DataFrame.\n",
      "Try using .loc[row_indexer,col_indexer] = value instead\n",
      "\n",
      "See the caveats in the documentation: https://pandas.pydata.org/pandas-docs/stable/user_guide/indexing.html#returning-a-view-versus-a-copy\n",
      "  df[phase] = df['Value'].astype(str) + ' ' + df['Unit']\n",
      "/tmp/ipykernel_255/3672331139.py:7: SettingWithCopyWarning: \n",
      "A value is trying to be set on a copy of a slice from a DataFrame.\n",
      "Try using .loc[row_indexer,col_indexer] = value instead\n",
      "\n",
      "See the caveats in the documentation: https://pandas.pydata.org/pandas-docs/stable/user_guide/indexing.html#returning-a-view-versus-a-copy\n",
      "  df[phase] = df['Value'].astype(str) + ' ' + df['Unit']\n",
      "/tmp/ipykernel_255/3672331139.py:7: SettingWithCopyWarning: \n",
      "A value is trying to be set on a copy of a slice from a DataFrame.\n",
      "Try using .loc[row_indexer,col_indexer] = value instead\n",
      "\n",
      "See the caveats in the documentation: https://pandas.pydata.org/pandas-docs/stable/user_guide/indexing.html#returning-a-view-versus-a-copy\n",
      "  df[phase] = df['Value'].astype(str) + ' ' + df['Unit']\n",
      "/tmp/ipykernel_255/3672331139.py:7: SettingWithCopyWarning: \n",
      "A value is trying to be set on a copy of a slice from a DataFrame.\n",
      "Try using .loc[row_indexer,col_indexer] = value instead\n",
      "\n",
      "See the caveats in the documentation: https://pandas.pydata.org/pandas-docs/stable/user_guide/indexing.html#returning-a-view-versus-a-copy\n",
      "  df[phase] = df['Value'].astype(str) + ' ' + df['Unit']\n",
      "/tmp/ipykernel_255/3672331139.py:7: SettingWithCopyWarning: \n",
      "A value is trying to be set on a copy of a slice from a DataFrame.\n",
      "Try using .loc[row_indexer,col_indexer] = value instead\n",
      "\n",
      "See the caveats in the documentation: https://pandas.pydata.org/pandas-docs/stable/user_guide/indexing.html#returning-a-view-versus-a-copy\n",
      "  df[phase] = df['Value'].astype(str) + ' ' + df['Unit']\n",
      "/tmp/ipykernel_255/3672331139.py:7: SettingWithCopyWarning: \n",
      "A value is trying to be set on a copy of a slice from a DataFrame.\n",
      "Try using .loc[row_indexer,col_indexer] = value instead\n",
      "\n",
      "See the caveats in the documentation: https://pandas.pydata.org/pandas-docs/stable/user_guide/indexing.html#returning-a-view-versus-a-copy\n",
      "  df[phase] = df['Value'].astype(str) + ' ' + df['Unit']\n",
      "/tmp/ipykernel_255/3672331139.py:7: SettingWithCopyWarning: \n",
      "A value is trying to be set on a copy of a slice from a DataFrame.\n",
      "Try using .loc[row_indexer,col_indexer] = value instead\n",
      "\n",
      "See the caveats in the documentation: https://pandas.pydata.org/pandas-docs/stable/user_guide/indexing.html#returning-a-view-versus-a-copy\n",
      "  df[phase] = df['Value'].astype(str) + ' ' + df['Unit']\n",
      "/tmp/ipykernel_255/3672331139.py:7: SettingWithCopyWarning: \n",
      "A value is trying to be set on a copy of a slice from a DataFrame.\n",
      "Try using .loc[row_indexer,col_indexer] = value instead\n",
      "\n",
      "See the caveats in the documentation: https://pandas.pydata.org/pandas-docs/stable/user_guide/indexing.html#returning-a-view-versus-a-copy\n",
      "  df[phase] = df['Value'].astype(str) + ' ' + df['Unit']\n"
     ]
    },
    {
     "data": {
      "application/vnd.deepnote.dataframe.v3+json": {
       "column_count": 19,
       "columns": [
        {
         "dtype": "object",
         "name": "Name",
         "stats": {
          "categories": [
           {
            "count": 1,
            "name": "cpu_energy_rapl_msr_component"
           },
           {
            "count": 1,
            "name": "cpu_utilization_procfs_system"
           },
           {
            "count": 3,
            "name": "3 others"
           }
          ],
          "histogram": null,
          "max": null,
          "min": null,
          "nan_count": 0,
          "unique_count": 5
         }
        },
        {
         "dtype": "object",
         "name": "[BASELINE]",
         "stats": {
          "categories": [
           {
            "count": 1,
            "name": "495558540 uJ"
           },
           {
            "count": 1,
            "name": "56 Ratio"
           },
           {
            "count": 3,
            "name": "3 others"
           }
          ],
          "histogram": null,
          "max": null,
          "min": null,
          "nan_count": 0,
          "unique_count": 5
         }
        },
        {
         "dtype": "object",
         "name": "[INSTALLATION]",
         "stats": {
          "categories": [
           {
            "count": 1,
            "name": "11169489 uJ"
           },
           {
            "count": 1,
            "name": "168 Ratio"
           },
           {
            "count": 3,
            "name": "3 others"
           }
          ],
          "histogram": null,
          "max": null,
          "min": null,
          "nan_count": 0,
          "unique_count": 5
         }
        },
        {
         "dtype": "object",
         "name": "[BOOT]",
         "stats": {
          "categories": [
           {
            "count": 1,
            "name": "10458127 uJ"
           },
           {
            "count": 1,
            "name": "1078 Ratio"
           },
           {
            "count": 3,
            "name": "3 others"
           }
          ],
          "histogram": null,
          "max": null,
          "min": null,
          "nan_count": 0,
          "unique_count": 5
         }
        },
        {
         "dtype": "object",
         "name": "[IDLE]",
         "stats": {
          "categories": [
           {
            "count": 1,
            "name": "493079296 uJ"
           },
           {
            "count": 1,
            "name": "68 Ratio"
           },
           {
            "count": 3,
            "name": "3 others"
           }
          ],
          "histogram": null,
          "max": null,
          "min": null,
          "nan_count": 0,
          "unique_count": 5
         }
        },
        {
         "dtype": "object",
         "name": "Download deepseek-r1 1.5b",
         "stats": {
          "categories": [
           {
            "count": 1,
            "name": "2702118672 uJ"
           },
           {
            "count": 1,
            "name": "441 Ratio"
           },
           {
            "count": 3,
            "name": "3 others"
           }
          ],
          "histogram": null,
          "max": null,
          "min": null,
          "nan_count": 0,
          "unique_count": 5
         }
        },
        {
         "dtype": "object",
         "name": "Load gemma3-4b into memory",
         "stats": {
          "categories": [
           {
            "count": 1,
            "name": "47187120 uJ"
           },
           {
            "count": 1,
            "name": "1262 Ratio"
           },
           {
            "count": 3,
            "name": "3 others"
           }
          ],
          "histogram": null,
          "max": null,
          "min": null,
          "nan_count": 0,
          "unique_count": 5
         }
        },
        {
         "dtype": "object",
         "name": "Run test run",
         "stats": {
          "categories": [
           {
            "count": 1,
            "name": "713506395 uJ"
           },
           {
            "count": 1,
            "name": "1777 Ratio"
           },
           {
            "count": 3,
            "name": "3 others"
           }
          ],
          "histogram": null,
          "max": null,
          "min": null,
          "nan_count": 0,
          "unique_count": 5
         }
        },
        {
         "dtype": "object",
         "name": "Run second test run",
         "stats": {
          "categories": [
           {
            "count": 1,
            "name": "187200586 uJ"
           },
           {
            "count": 1,
            "name": "1772 Ratio"
           },
           {
            "count": 3,
            "name": "3 others"
           }
          ],
          "histogram": null,
          "max": null,
          "min": null,
          "nan_count": 0,
          "unique_count": 5
         }
        },
        {
         "dtype": "object",
         "name": "Run email generation prompt with length condition 16 words",
         "stats": {
          "categories": [
           {
            "count": 1,
            "name": "63460128 uJ"
           },
           {
            "count": 1,
            "name": "1757 Ratio"
           },
           {
            "count": 3,
            "name": "3 others"
           }
          ],
          "histogram": null,
          "max": null,
          "min": null,
          "nan_count": 0,
          "unique_count": 5
         }
        },
        {
         "dtype": "object",
         "name": "Run email generation prompt with length 32 words",
         "stats": {
          "categories": [
           {
            "count": 1,
            "name": "81716232 uJ"
           },
           {
            "count": 1,
            "name": "1761 Ratio"
           },
           {
            "count": 3,
            "name": "3 others"
           }
          ],
          "histogram": null,
          "max": null,
          "min": null,
          "nan_count": 0,
          "unique_count": 5
         }
        },
        {
         "dtype": "object",
         "name": "Run email generation prompt with length condition 64 words",
         "stats": {
          "categories": [
           {
            "count": 1,
            "name": "921579956 uJ"
           },
           {
            "count": 1,
            "name": "1770 Ratio"
           },
           {
            "count": 3,
            "name": "3 others"
           }
          ],
          "histogram": null,
          "max": null,
          "min": null,
          "nan_count": 0,
          "unique_count": 5
         }
        },
        {
         "dtype": "object",
         "name": "Run email generation prompt with length condition 128 words",
         "stats": {
          "categories": [
           {
            "count": 1,
            "name": "113845987 uJ"
           },
           {
            "count": 1,
            "name": "1802 Ratio"
           },
           {
            "count": 3,
            "name": "3 others"
           }
          ],
          "histogram": null,
          "max": null,
          "min": null,
          "nan_count": 0,
          "unique_count": 5
         }
        },
        {
         "dtype": "object",
         "name": "Run email generation prompt with length condition 256 words",
         "stats": {
          "categories": [
           {
            "count": 1,
            "name": "180158228 uJ"
           },
           {
            "count": 1,
            "name": "1783 Ratio"
           },
           {
            "count": 3,
            "name": "3 others"
           }
          ],
          "histogram": null,
          "max": null,
          "min": null,
          "nan_count": 0,
          "unique_count": 5
         }
        },
        {
         "dtype": "object",
         "name": "Run email generation prompt with length condition 512 words",
         "stats": {
          "categories": [
           {
            "count": 1,
            "name": "173179534 uJ"
           },
           {
            "count": 1,
            "name": "1794 Ratio"
           },
           {
            "count": 3,
            "name": "3 others"
           }
          ],
          "histogram": null,
          "max": null,
          "min": null,
          "nan_count": 0,
          "unique_count": 5
         }
        },
        {
         "dtype": "object",
         "name": "Run email generation prompt with length condition 1024 words",
         "stats": {
          "categories": [
           {
            "count": 1,
            "name": "175720187 uJ"
           },
           {
            "count": 1,
            "name": "1788 Ratio"
           },
           {
            "count": 3,
            "name": "3 others"
           }
          ],
          "histogram": null,
          "max": null,
          "min": null,
          "nan_count": 0,
          "unique_count": 5
         }
        },
        {
         "dtype": "object",
         "name": "Run email generation prompt with length condition 2056 words",
         "stats": {
          "categories": [
           {
            "count": 1,
            "name": "197360194 uJ"
           },
           {
            "count": 1,
            "name": "1785 Ratio"
           },
           {
            "count": 3,
            "name": "3 others"
           }
          ],
          "histogram": null,
          "max": null,
          "min": null,
          "nan_count": 0,
          "unique_count": 5
         }
        },
        {
         "dtype": "object",
         "name": "[REMOVE]",
         "stats": {
          "categories": [
           {
            "count": 1,
            "name": "4986200 uJ"
           },
           {
            "count": 1,
            "name": "82 Ratio"
           },
           {
            "count": 3,
            "name": "3 others"
           }
          ],
          "histogram": null,
          "max": null,
          "min": null,
          "nan_count": 0,
          "unique_count": 5
         }
        },
        {
         "dtype": "object",
         "name": "[RUNTIME]",
         "stats": {
          "categories": [
           {
            "count": 1,
            "name": "5557033219 uJ"
           },
           {
            "count": 1,
            "name": "1119 Ratio"
           },
           {
            "count": 3,
            "name": "3 others"
           }
          ],
          "histogram": null,
          "max": null,
          "min": null,
          "nan_count": 0,
          "unique_count": 5
         }
        },
        {
         "dtype": "int64",
         "name": "_deepnote_index_column"
        }
       ],
       "preview_row_count": 5,
       "row_count": 5,
       "rows": [
        {
         "Download deepseek-r1 1.5b": "2702118672 uJ",
         "Load gemma3-4b into memory": "47187120 uJ",
         "Name": "cpu_energy_rapl_msr_component",
         "Run email generation prompt with length 32 words": "81716232 uJ",
         "Run email generation prompt with length condition 1024 words": "175720187 uJ",
         "Run email generation prompt with length condition 128 words": "113845987 uJ",
         "Run email generation prompt with length condition 16 words": "63460128 uJ",
         "Run email generation prompt with length condition 2056 words": "197360194 uJ",
         "Run email generation prompt with length condition 256 words": "180158228 uJ",
         "Run email generation prompt with length condition 512 words": "173179534 uJ",
         "Run email generation prompt with length condition 64 words": "921579956 uJ",
         "Run second test run": "187200586 uJ",
         "Run test run": "713506395 uJ",
         "[BASELINE]": "495558540 uJ",
         "[BOOT]": "10458127 uJ",
         "[IDLE]": "493079296 uJ",
         "[INSTALLATION]": "11169489 uJ",
         "[REMOVE]": "4986200 uJ",
         "[RUNTIME]": "5557033219 uJ",
         "_deepnote_index_column": 0
        },
        {
         "Download deepseek-r1 1.5b": "441 Ratio",
         "Load gemma3-4b into memory": "1262 Ratio",
         "Name": "cpu_utilization_procfs_system",
         "Run email generation prompt with length 32 words": "1761 Ratio",
         "Run email generation prompt with length condition 1024 words": "1788 Ratio",
         "Run email generation prompt with length condition 128 words": "1802 Ratio",
         "Run email generation prompt with length condition 16 words": "1757 Ratio",
         "Run email generation prompt with length condition 2056 words": "1785 Ratio",
         "Run email generation prompt with length condition 256 words": "1783 Ratio",
         "Run email generation prompt with length condition 512 words": "1794 Ratio",
         "Run email generation prompt with length condition 64 words": "1770 Ratio",
         "Run second test run": "1772 Ratio",
         "Run test run": "1777 Ratio",
         "[BASELINE]": "56 Ratio",
         "[BOOT]": "1078 Ratio",
         "[IDLE]": "68 Ratio",
         "[INSTALLATION]": "168 Ratio",
         "[REMOVE]": "82 Ratio",
         "[RUNTIME]": "1119 Ratio",
         "_deepnote_index_column": 1
        },
        {
         "Download deepseek-r1 1.5b": "1894811880 uJ",
         "Load gemma3-4b into memory": "169496182 uJ",
         "Name": "gpu_energy_nvidia_nvml_component",
         "Run email generation prompt with length 32 words": "542742565 uJ",
         "Run email generation prompt with length condition 1024 words": "1186500545 uJ",
         "Run email generation prompt with length condition 128 words": "776188374 uJ",
         "Run email generation prompt with length condition 16 words": "432649250 uJ",
         "Run email generation prompt with length condition 2056 words": "1339810186 uJ",
         "Run email generation prompt with length condition 256 words": "1197507918 uJ",
         "Run email generation prompt with length condition 512 words": "1161763793 uJ",
         "Run email generation prompt with length condition 64 words": "6406672429 uJ",
         "Run second test run": "1260283866 uJ",
         "Run test run": "4917219170 uJ",
         "[BASELINE]": "1081319915 uJ",
         "[BOOT]": "18238181 uJ",
         "[IDLE]": "1084687414 uJ",
         "[INSTALLATION]": "23708959 uJ",
         "[REMOVE]": "50449005 uJ",
         "[RUNTIME]": "21285646158 uJ",
         "_deepnote_index_column": 2
        },
        {
         "Download deepseek-r1 1.5b": "74176694 uJ",
         "Load gemma3-4b into memory": "2674607 uJ",
         "Name": "memory_energy_rapl_msr_component",
         "Run email generation prompt with length 32 words": "2576466 uJ",
         "Run email generation prompt with length condition 1024 words": "5396577 uJ",
         "Run email generation prompt with length condition 128 words": "3544720 uJ",
         "Run email generation prompt with length condition 16 words": "2090376 uJ",
         "Run email generation prompt with length condition 2056 words": "6075647 uJ",
         "Run email generation prompt with length condition 256 words": "5608237 uJ",
         "Run email generation prompt with length condition 512 words": "5333589 uJ",
         "Run email generation prompt with length condition 64 words": "28531201 uJ",
         "Run second test run": "5910669 uJ",
         "Run test run": "22154273 uJ",
         "[BASELINE]": "40810513 uJ",
         "[BOOT]": "763850 uJ",
         "[IDLE]": "40784300 uJ",
         "[INSTALLATION]": "893913 uJ",
         "[REMOVE]": "740472 uJ",
         "[RUNTIME]": "164073056 uJ",
         "_deepnote_index_column": 3
        },
        {
         "Download deepseek-r1 1.5b": "105051748 us",
         "Load gemma3-4b into memory": "2887885 us",
         "Name": "phase_time_syscall_system",
         "Run email generation prompt with length 32 words": "3091447 us",
         "Run email generation prompt with length condition 1024 words": "6636758 us",
         "Run email generation prompt with length condition 128 words": "4398668 us",
         "Run email generation prompt with length condition 16 words": "2625339 us",
         "Run email generation prompt with length condition 2056 words": "7457584 us",
         "Run email generation prompt with length condition 256 words": "6785437 us",
         "Run email generation prompt with length condition 512 words": "6552374 us",
         "Run email generation prompt with length condition 64 words": "35231346 us",
         "Run second test run": "7272998 us",
         "Run test run": "27434513 us",
         "[BASELINE]": "60158757 us",
         "[BOOT]": "1020475 us",
         "[IDLE]": "60104053 us",
         "[INSTALLATION]": "1294496 us",
         "[REMOVE]": "1100198 us",
         "[RUNTIME]": "215426097 us",
         "_deepnote_index_column": 4
        }
       ],
       "type": "dataframe"
      },
      "text/html": [
       "<div>\n",
       "<style scoped>\n",
       "    .dataframe tbody tr th:only-of-type {\n",
       "        vertical-align: middle;\n",
       "    }\n",
       "\n",
       "    .dataframe tbody tr th {\n",
       "        vertical-align: top;\n",
       "    }\n",
       "\n",
       "    .dataframe thead th {\n",
       "        text-align: right;\n",
       "    }\n",
       "</style>\n",
       "<table border=\"1\" class=\"dataframe\">\n",
       "  <thead>\n",
       "    <tr style=\"text-align: right;\">\n",
       "      <th></th>\n",
       "      <th>Name</th>\n",
       "      <th>[BASELINE]</th>\n",
       "      <th>[INSTALLATION]</th>\n",
       "      <th>[BOOT]</th>\n",
       "      <th>[IDLE]</th>\n",
       "      <th>Download deepseek-r1 1.5b</th>\n",
       "      <th>Load gemma3-4b into memory</th>\n",
       "      <th>Run test run</th>\n",
       "      <th>Run second test run</th>\n",
       "      <th>Run email generation prompt with length condition 16 words</th>\n",
       "      <th>Run email generation prompt with length 32 words</th>\n",
       "      <th>Run email generation prompt with length condition 64 words</th>\n",
       "      <th>Run email generation prompt with length condition 128 words</th>\n",
       "      <th>Run email generation prompt with length condition 256 words</th>\n",
       "      <th>Run email generation prompt with length condition 512 words</th>\n",
       "      <th>Run email generation prompt with length condition 1024 words</th>\n",
       "      <th>Run email generation prompt with length condition 2056 words</th>\n",
       "      <th>[REMOVE]</th>\n",
       "      <th>[RUNTIME]</th>\n",
       "    </tr>\n",
       "  </thead>\n",
       "  <tbody>\n",
       "    <tr>\n",
       "      <th>0</th>\n",
       "      <td>cpu_energy_rapl_msr_component</td>\n",
       "      <td>495558540 uJ</td>\n",
       "      <td>11169489 uJ</td>\n",
       "      <td>10458127 uJ</td>\n",
       "      <td>493079296 uJ</td>\n",
       "      <td>2702118672 uJ</td>\n",
       "      <td>47187120 uJ</td>\n",
       "      <td>713506395 uJ</td>\n",
       "      <td>187200586 uJ</td>\n",
       "      <td>63460128 uJ</td>\n",
       "      <td>81716232 uJ</td>\n",
       "      <td>921579956 uJ</td>\n",
       "      <td>113845987 uJ</td>\n",
       "      <td>180158228 uJ</td>\n",
       "      <td>173179534 uJ</td>\n",
       "      <td>175720187 uJ</td>\n",
       "      <td>197360194 uJ</td>\n",
       "      <td>4986200 uJ</td>\n",
       "      <td>5557033219 uJ</td>\n",
       "    </tr>\n",
       "    <tr>\n",
       "      <th>1</th>\n",
       "      <td>cpu_utilization_procfs_system</td>\n",
       "      <td>56 Ratio</td>\n",
       "      <td>168 Ratio</td>\n",
       "      <td>1078 Ratio</td>\n",
       "      <td>68 Ratio</td>\n",
       "      <td>441 Ratio</td>\n",
       "      <td>1262 Ratio</td>\n",
       "      <td>1777 Ratio</td>\n",
       "      <td>1772 Ratio</td>\n",
       "      <td>1757 Ratio</td>\n",
       "      <td>1761 Ratio</td>\n",
       "      <td>1770 Ratio</td>\n",
       "      <td>1802 Ratio</td>\n",
       "      <td>1783 Ratio</td>\n",
       "      <td>1794 Ratio</td>\n",
       "      <td>1788 Ratio</td>\n",
       "      <td>1785 Ratio</td>\n",
       "      <td>82 Ratio</td>\n",
       "      <td>1119 Ratio</td>\n",
       "    </tr>\n",
       "    <tr>\n",
       "      <th>2</th>\n",
       "      <td>gpu_energy_nvidia_nvml_component</td>\n",
       "      <td>1081319915 uJ</td>\n",
       "      <td>23708959 uJ</td>\n",
       "      <td>18238181 uJ</td>\n",
       "      <td>1084687414 uJ</td>\n",
       "      <td>1894811880 uJ</td>\n",
       "      <td>169496182 uJ</td>\n",
       "      <td>4917219170 uJ</td>\n",
       "      <td>1260283866 uJ</td>\n",
       "      <td>432649250 uJ</td>\n",
       "      <td>542742565 uJ</td>\n",
       "      <td>6406672429 uJ</td>\n",
       "      <td>776188374 uJ</td>\n",
       "      <td>1197507918 uJ</td>\n",
       "      <td>1161763793 uJ</td>\n",
       "      <td>1186500545 uJ</td>\n",
       "      <td>1339810186 uJ</td>\n",
       "      <td>50449005 uJ</td>\n",
       "      <td>21285646158 uJ</td>\n",
       "    </tr>\n",
       "    <tr>\n",
       "      <th>3</th>\n",
       "      <td>memory_energy_rapl_msr_component</td>\n",
       "      <td>40810513 uJ</td>\n",
       "      <td>893913 uJ</td>\n",
       "      <td>763850 uJ</td>\n",
       "      <td>40784300 uJ</td>\n",
       "      <td>74176694 uJ</td>\n",
       "      <td>2674607 uJ</td>\n",
       "      <td>22154273 uJ</td>\n",
       "      <td>5910669 uJ</td>\n",
       "      <td>2090376 uJ</td>\n",
       "      <td>2576466 uJ</td>\n",
       "      <td>28531201 uJ</td>\n",
       "      <td>3544720 uJ</td>\n",
       "      <td>5608237 uJ</td>\n",
       "      <td>5333589 uJ</td>\n",
       "      <td>5396577 uJ</td>\n",
       "      <td>6075647 uJ</td>\n",
       "      <td>740472 uJ</td>\n",
       "      <td>164073056 uJ</td>\n",
       "    </tr>\n",
       "    <tr>\n",
       "      <th>4</th>\n",
       "      <td>phase_time_syscall_system</td>\n",
       "      <td>60158757 us</td>\n",
       "      <td>1294496 us</td>\n",
       "      <td>1020475 us</td>\n",
       "      <td>60104053 us</td>\n",
       "      <td>105051748 us</td>\n",
       "      <td>2887885 us</td>\n",
       "      <td>27434513 us</td>\n",
       "      <td>7272998 us</td>\n",
       "      <td>2625339 us</td>\n",
       "      <td>3091447 us</td>\n",
       "      <td>35231346 us</td>\n",
       "      <td>4398668 us</td>\n",
       "      <td>6785437 us</td>\n",
       "      <td>6552374 us</td>\n",
       "      <td>6636758 us</td>\n",
       "      <td>7457584 us</td>\n",
       "      <td>1100198 us</td>\n",
       "      <td>215426097 us</td>\n",
       "    </tr>\n",
       "  </tbody>\n",
       "</table>\n",
       "</div>"
      ],
      "text/plain": [
       "                               Name     [BASELINE] [INSTALLATION]  \\\n",
       "0     cpu_energy_rapl_msr_component   495558540 uJ    11169489 uJ   \n",
       "1     cpu_utilization_procfs_system       56 Ratio      168 Ratio   \n",
       "2  gpu_energy_nvidia_nvml_component  1081319915 uJ    23708959 uJ   \n",
       "3  memory_energy_rapl_msr_component    40810513 uJ      893913 uJ   \n",
       "4         phase_time_syscall_system    60158757 us     1294496 us   \n",
       "\n",
       "        [BOOT]         [IDLE] Download deepseek-r1 1.5b  \\\n",
       "0  10458127 uJ   493079296 uJ             2702118672 uJ   \n",
       "1   1078 Ratio       68 Ratio                 441 Ratio   \n",
       "2  18238181 uJ  1084687414 uJ             1894811880 uJ   \n",
       "3    763850 uJ    40784300 uJ               74176694 uJ   \n",
       "4   1020475 us    60104053 us              105051748 us   \n",
       "\n",
       "  Load gemma3-4b into memory   Run test run Run second test run  \\\n",
       "0                47187120 uJ   713506395 uJ        187200586 uJ   \n",
       "1                 1262 Ratio     1777 Ratio          1772 Ratio   \n",
       "2               169496182 uJ  4917219170 uJ       1260283866 uJ   \n",
       "3                 2674607 uJ    22154273 uJ          5910669 uJ   \n",
       "4                 2887885 us    27434513 us          7272998 us   \n",
       "\n",
       "  Run email generation prompt with length condition 16 words  \\\n",
       "0                                        63460128 uJ           \n",
       "1                                         1757 Ratio           \n",
       "2                                       432649250 uJ           \n",
       "3                                         2090376 uJ           \n",
       "4                                         2625339 us           \n",
       "\n",
       "  Run email generation prompt with length 32 words  \\\n",
       "0                                      81716232 uJ   \n",
       "1                                       1761 Ratio   \n",
       "2                                     542742565 uJ   \n",
       "3                                       2576466 uJ   \n",
       "4                                       3091447 us   \n",
       "\n",
       "  Run email generation prompt with length condition 64 words  \\\n",
       "0                                       921579956 uJ           \n",
       "1                                         1770 Ratio           \n",
       "2                                      6406672429 uJ           \n",
       "3                                        28531201 uJ           \n",
       "4                                        35231346 us           \n",
       "\n",
       "  Run email generation prompt with length condition 128 words  \\\n",
       "0                                       113845987 uJ            \n",
       "1                                         1802 Ratio            \n",
       "2                                       776188374 uJ            \n",
       "3                                         3544720 uJ            \n",
       "4                                         4398668 us            \n",
       "\n",
       "  Run email generation prompt with length condition 256 words  \\\n",
       "0                                       180158228 uJ            \n",
       "1                                         1783 Ratio            \n",
       "2                                      1197507918 uJ            \n",
       "3                                         5608237 uJ            \n",
       "4                                         6785437 us            \n",
       "\n",
       "  Run email generation prompt with length condition 512 words  \\\n",
       "0                                       173179534 uJ            \n",
       "1                                         1794 Ratio            \n",
       "2                                      1161763793 uJ            \n",
       "3                                         5333589 uJ            \n",
       "4                                         6552374 us            \n",
       "\n",
       "  Run email generation prompt with length condition 1024 words  \\\n",
       "0                                       175720187 uJ             \n",
       "1                                         1788 Ratio             \n",
       "2                                      1186500545 uJ             \n",
       "3                                         5396577 uJ             \n",
       "4                                         6636758 us             \n",
       "\n",
       "  Run email generation prompt with length condition 2056 words     [REMOVE]  \\\n",
       "0                                       197360194 uJ             4986200 uJ   \n",
       "1                                         1785 Ratio               82 Ratio   \n",
       "2                                      1339810186 uJ            50449005 uJ   \n",
       "3                                         6075647 uJ              740472 uJ   \n",
       "4                                         7457584 us             1100198 us   \n",
       "\n",
       "        [RUNTIME]  \n",
       "0   5557033219 uJ  \n",
       "1      1119 Ratio  \n",
       "2  21285646158 uJ  \n",
       "3    164073056 uJ  \n",
       "4    215426097 us  "
      ]
     },
     "execution_count": 27,
     "metadata": {},
     "output_type": "execute_result"
    }
   ],
   "source": [
    "# Create a combined dataframe\n",
    "combined_df = pd.DataFrame()\n",
    "\n",
    "# Iterate through each phase and its dataframe\n",
    "for phase, df in filtered_phase_dataframes.items():\n",
    "    # Create a new column with concatenated value and unit\n",
    "    df[phase] = df['Value'].astype(str) + ' ' + df['Unit']\n",
    "    # Set the index to 'Name' for alignment\n",
    "    df.set_index('Name', inplace=True)\n",
    "    # Add the phase column to the combined dataframe\n",
    "    if combined_df.empty:\n",
    "        combined_df = df[[phase]]\n",
    "    else:\n",
    "        combined_df = combined_df.join(df[[phase]], how='outer')\n",
    "\n",
    "# Reset the index for the final dataframe\n",
    "combined_df.reset_index(inplace=True)\n",
    "combined_df"
   ]
  },
  {
   "cell_type": "markdown",
   "metadata": {
    "cell_id": "a98066a822534d36b77ed2b60e660076",
    "deepnote_cell_type": "text-cell-p"
   },
   "source": [
    "The combined dataframe has been successfully created, with each column representing a phase and the values concatenated with their respective units. Let me know if you need further adjustments or analysis."
   ]
  },
  {
   "cell_type": "markdown",
   "metadata": {
    "created_in_deepnote_cell": true,
    "deepnote_cell_type": "markdown"
   },
   "source": [
    "<a style='text-decoration:none;line-height:16px;display:flex;color:#5B5B62;padding:10px;justify-content:end;' href='https://deepnote.com?utm_source=created-in-deepnote-cell&projectId=7e5ef0c2-3ed5-4773-825f-1c7babd264b0' target=\"_blank\">\n",
    "<img alt='Created in deepnote.com' style='display:inline;max-height:16px;margin:0px;margin-right:7.5px;' src='data:image/svg+xml;base64,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' > </img>\n",
    "Created in <span style='font-weight:600;margin-left:4px;'>Deepnote</span></a>"
   ]
  }
 ],
 "metadata": {
  "deepnote_notebook_id": "e638f2974d204fc2a8600fef3d0de086",
  "deepnote_persisted_session": {
   "createdAt": "2025-07-03T08:14:47.813Z"
  },
  "language_info": {
   "name": "python"
  }
 },
 "nbformat": 4,
 "nbformat_minor": 0
}
